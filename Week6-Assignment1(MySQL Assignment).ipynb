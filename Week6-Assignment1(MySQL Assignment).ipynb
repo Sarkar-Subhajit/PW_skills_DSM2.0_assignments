{
 "cells": [
  {
   "cell_type": "markdown",
   "id": "5829cf52",
   "metadata": {},
   "source": [
    "# Week 6 - Assignment1 (MySQL Assignment) Solutions\n",
    "\n",
    "\n",
    "## Q1. What is a database? Differentiate between SQL and NoSQL databases.\n",
    "\n",
    "\n",
    "**Answer -**\n",
    "A **database** is grouping of relatable data items in a structured way like addressbook in phones. A database is an organized collection of structured or unstructured data that can be accessed, managed, and updated in a systematic way. It allows for efficient storage, retrieval, and manipulation of large amounts of data. A database system typically consists of software that manages the data, a database server that stores the data, and one or more applications that access the data.\n",
    "\n",
    "SQL (Structured Query Language) and NoSQL (Not only SQL) are two different types of database management systems that use different methods for storing and retrieving data. Here are some key differences between the two:\n",
    "\n",
    "|Feature|SQL databases|NoSQL databases|\n",
    "|-|-|-|\n",
    "|Data model|Relational data model|Flexible data model|\n",
    "|Query language|SQL|Database-specific query language|\n",
    "|Scalability|Vertically scalable|Horizontally scalable|\n",
    "|Consistency|Strong consistency|May offer weaker consistency models|\n",
    "|Usage|Complex queries and transactions|Fast and flexible data processing|\n",
    "|Examples|MySQL, Oracle, PostgreSQL, DB2, Microsoft SQL Server, SQLite|MongoDB, Cassandra, HBase, Neo4j, Influx, Amazon DynamoDB|\n",
    "\n",
    "Different types of SQL databases has their own features and benefits. For example, MySQL is a popular choice for web applications due to its fast performance and scalability, while PostgreSQL is often used for data warehousing and business intelligence applications due to its advanced query optimization capabilities. Similarly, different types of NoSQL databases has their own strengths and weaknesses. For example, document-oriented databases like MongoDB are great for storing unstructured data such as JSON documents, while graph databases like Neo4j are ideal for modeling complex relationships between data points.\n",
    "\n",
    "In summary, SQL databases are highly structured, provide high data integrity and consistency, and use SQL as a query language. NoSQL databases are highly scalable, provide greater flexibility and agility, and use non-structured or semi-structured data models."
   ]
  },
  {
   "cell_type": "markdown",
   "id": "b155f021",
   "metadata": {},
   "source": [
    "## Q2. What is DDL? Explain why CREATE, DROP, ALTER, and TRUNCATE are used with an example.\n",
    "\n",
    "\n",
    "**Answer -**\n",
    "**DDL** stands for **Data Definition Language**. DDL Commands are used for defining the structures of the various objects in the database. DDL commands can be broken down into the following commands :\n",
    "\n",
    "|**Commands**|**Usage**|\n",
    "|-|-|\n",
    "**CREATE**|Creates a table/object for relation|\n",
    "**ALTER**|Used for modifying an object|\n",
    "**DROP**|Used for dropping an object|\n",
    "**TURNICATE**|Used for turnicating tables deleting all the results but not table|\n",
    "\n",
    "Examples are given below. To execute SQL queries in python, we need to import the module mysql.connector. Next we need to establish a connection under connection variable **mydb**. We try to establish it in local system with user id as \"root\" and passowrd \"mysql\". Next we have to create a cursor variable **mycursor** that acts like a reference pointer. "
   ]
  },
  {
   "cell_type": "code",
   "execution_count": null,
   "id": "d2be0c62",
   "metadata": {},
   "outputs": [],
   "source": [
    "# Importing Library\n",
    "import mysql.connector"
   ]
  },
  {
   "cell_type": "code",
   "execution_count": null,
   "id": "0145eba2",
   "metadata": {},
   "outputs": [],
   "source": [
    "#Establishing connection (host - localhost user_id - root, password - mysql)\n",
    "mydb = mysql.connector.connect(host = \"localhost\", user =\"root\", password = \"mysql\")"
   ]
  },
  {
   "cell_type": "code",
   "execution_count": null,
   "id": "f6b6ba85",
   "metadata": {},
   "outputs": [],
   "source": [
    "# to check the connection\n",
    "print(mydb)"
   ]
  },
  {
   "cell_type": "code",
   "execution_count": null,
   "id": "4e15c51d",
   "metadata": {},
   "outputs": [],
   "source": [
    "# Creating a cursor variable\n",
    "mycursor = mydb.cursor()"
   ]
  },
  {
   "cell_type": "markdown",
   "id": "5c7d6fb5",
   "metadata": {},
   "source": [
    "#### CREATE command example: \n",
    "We first create a database and a table."
   ]
  },
  {
   "cell_type": "code",
   "execution_count": null,
   "id": "564fc583",
   "metadata": {},
   "outputs": [],
   "source": [
    "# creating a database\n",
    "mycursor.execute(\"CREATE DATABASE IF NOT EXISTS test1\");\n",
    "# creating a table\n",
    "mycursor.execute(\"CREATE TABLE if not exists test1.test (c1 INT, c2 VARCHAR(50), c3 INT, c4 FLOAT, c5 VARCHAR(50))\")"
   ]
  },
  {
   "cell_type": "code",
   "execution_count": null,
   "id": "f993f8fd",
   "metadata": {},
   "outputs": [],
   "source": [
    "# checking database\n",
    "mycursor.execute(\"SHOW databases\")\n",
    "mycursor.fetchall()"
   ]
  },
  {
   "cell_type": "code",
   "execution_count": null,
   "id": "5fa40ca6",
   "metadata": {},
   "outputs": [],
   "source": [
    "# checking tables\n",
    "mycursor.execute(\"use test1\") #selecting database test1\n",
    "mycursor.execute(\"SHOW tables\")\n",
    "mycursor.fetchall()"
   ]
  },
  {
   "cell_type": "markdown",
   "id": "51263839",
   "metadata": {},
   "source": [
    "#### ALTER command example: \n",
    "We modify and insert another column c6 INT in test table using alter."
   ]
  },
  {
   "cell_type": "code",
   "execution_count": null,
   "id": "cf230921",
   "metadata": {},
   "outputs": [],
   "source": [
    "# Inserting a column in table\n",
    "mycursor.execute(\"ALTER TABLE test1.test ADD COLUMN c6 INT\")\n",
    "mydb.commit()\n",
    "# checking\n",
    "mycursor.execute(\"SELECT * FROM test\")\n",
    "mycursor.fetchall()"
   ]
  },
  {
   "cell_type": "code",
   "execution_count": null,
   "id": "c90aa2ad",
   "metadata": {},
   "outputs": [],
   "source": [
    "mycursor.execute('select * from test1.test')\n",
    "for i in mycursor.fetchall():\n",
    "    print(i)\n"
   ]
  },
  {
   "cell_type": "markdown",
   "id": "d5fa60c8",
   "metadata": {},
   "source": [
    "#### TRUNCATE command example: \n",
    "Lets say table test has data. If we want to delete all the records but not the table itself, we use TRUNCATE."
   ]
  },
  {
   "cell_type": "code",
   "execution_count": null,
   "id": "7edf7f7e",
   "metadata": {},
   "outputs": [],
   "source": [
    "# Turnicating table test\n",
    "mycursor.execute(\"TRUNCATE TABLE test1.test\")\n",
    "mydb.commit()"
   ]
  },
  {
   "cell_type": "markdown",
   "id": "3d71e065",
   "metadata": {},
   "source": [
    "#### DROP command example: \n",
    "Lets say we want to drop the table itself, we use drop"
   ]
  },
  {
   "cell_type": "code",
   "execution_count": null,
   "id": "e788f71a",
   "metadata": {},
   "outputs": [],
   "source": [
    "mycursor.execute(\"Drop table test1.test\")\n",
    "mydb.commit()"
   ]
  },
  {
   "cell_type": "code",
   "execution_count": null,
   "id": "de814298",
   "metadata": {},
   "outputs": [],
   "source": [
    "# checking tables\n",
    "mycursor.execute(\"use test1\") #selecting database test1\n",
    "mycursor.execute(\"SHOW tables\")\n",
    "mycursor.fetchall()\n",
    "mydb.close()"
   ]
  },
  {
   "cell_type": "markdown",
   "id": "55e5f3b1",
   "metadata": {},
   "source": [
    "## Q3. What is DML? Explain INSERT, UPDATE, and DELETE with an example.\n",
    "\n",
    "\n",
    "**Answer -**\n",
    "**DML** stands for **Data Manipulation Language**. DML Commands are used for maipulating the data or modifying the data which is already present in a table inside a database. Whenever we execute DML commands, they will initialte a transction/session. Using these transactions, we can modify the database. DML commands can be broken down into the following commands :\n",
    "\n",
    "|**Commands**|**Usage**|\n",
    "|-|-|\n",
    "**INSERT**|used for inserting one or multiple records in a table|\n",
    "**UPDATE**|Used for updating one or multiple records in a table|\n",
    "**DELETE**|Used for deleting one or multiple records in a table|\n",
    "\n",
    "Examples are given below. To execute SQL queries in python, we need to import the module mysql.connector. Next we need to establish a connection under connection variable **mydb**. We try to establish it in local system with user id as \"root\" and passowrd \"mysql\". Next we have to create a cursor variable **mycursor** that acts like a reference pointer. For explaining DML queries, we create a database, a table and to insert records in it. "
   ]
  },
  {
   "cell_type": "code",
   "execution_count": 1,
   "id": "df2eb0f3",
   "metadata": {},
   "outputs": [],
   "source": [
    "# Importing Library\n",
    "import mysql.connector"
   ]
  },
  {
   "cell_type": "code",
   "execution_count": 2,
   "id": "60ee277b",
   "metadata": {},
   "outputs": [],
   "source": [
    "#Establishing connection (host - localhost user_id - root, password - mysql)\n",
    "mydb = mysql.connector.connect(host = \"localhost\", user =\"root\", password = \"mysql\")"
   ]
  },
  {
   "cell_type": "code",
   "execution_count": 3,
   "id": "28e56d9d",
   "metadata": {},
   "outputs": [
    {
     "name": "stdout",
     "output_type": "stream",
     "text": [
      "<mysql.connector.connection_cext.CMySQLConnection object at 0x0000023D45BF3490>\n"
     ]
    }
   ],
   "source": [
    "# to check the connection\n",
    "print(mydb)"
   ]
  },
  {
   "cell_type": "code",
   "execution_count": 4,
   "id": "628bdcd0",
   "metadata": {},
   "outputs": [],
   "source": [
    "# Creating a cursor variable\n",
    "mycursor = mydb.cursor()"
   ]
  },
  {
   "cell_type": "code",
   "execution_count": 5,
   "id": "495c0794",
   "metadata": {},
   "outputs": [],
   "source": [
    "# creating a database\n",
    "mycursor.execute(\"CREATE DATABASE IF NOT EXISTS test1\");\n",
    "# creating a table\n",
    "mycursor.execute(\"CREATE TABLE if not exists test1.test (ID_No INT, Name VARCHAR(50), email_id VARCHAR(50))\")"
   ]
  },
  {
   "cell_type": "code",
   "execution_count": 6,
   "id": "f52da5a1",
   "metadata": {},
   "outputs": [
    {
     "data": {
      "text/plain": [
       "[('bank_marketing',),\n",
       " ('dress_data',),\n",
       " ('information_schema',),\n",
       " ('institute',),\n",
       " ('mysql',),\n",
       " ('performance_schema',),\n",
       " ('sakila',),\n",
       " ('sales',),\n",
       " ('sys',),\n",
       " ('test1',),\n",
       " ('world',)]"
      ]
     },
     "execution_count": 6,
     "metadata": {},
     "output_type": "execute_result"
    }
   ],
   "source": [
    "# checking database\n",
    "mycursor.execute(\"SHOW databases\")\n",
    "mycursor.fetchall()"
   ]
  },
  {
   "cell_type": "code",
   "execution_count": 7,
   "id": "a21c809b",
   "metadata": {},
   "outputs": [
    {
     "data": {
      "text/plain": [
       "[('test',)]"
      ]
     },
     "execution_count": 7,
     "metadata": {},
     "output_type": "execute_result"
    }
   ],
   "source": [
    "# checking tables\n",
    "mycursor.execute(\"use test1\") #selecting database test1\n",
    "mycursor.execute(\"SHOW tables\")\n",
    "mycursor.fetchall()"
   ]
  },
  {
   "cell_type": "code",
   "execution_count": 9,
   "id": "53510f5a",
   "metadata": {},
   "outputs": [],
   "source": [
    "# checking structure of test table\n",
    "mycursor.execute(\"SELECT * FROM test1.test\")\n",
    "for i in mycursor.fetchall():\n",
    "    print(i)"
   ]
  },
  {
   "cell_type": "markdown",
   "id": "e8cf0758",
   "metadata": {},
   "source": [
    "#### INSERT command example: \n",
    "To insert a record in table, we use INSERT."
   ]
  },
  {
   "cell_type": "code",
   "execution_count": 10,
   "id": "fb704c49",
   "metadata": {},
   "outputs": [],
   "source": [
    "# inserting record into test table\n",
    "mycursor.execute(\"INSERT INTO test1.test VALUES(1234, 'Subhajit', 'subhajit@gmail.com')\")\n",
    "mydb.commit()"
   ]
  },
  {
   "cell_type": "code",
   "execution_count": 11,
   "id": "bb1deed4",
   "metadata": {},
   "outputs": [
    {
     "name": "stdout",
     "output_type": "stream",
     "text": [
      "(1234, 'Subhajit', 'subhajit@gmail.com')\n"
     ]
    }
   ],
   "source": [
    "#checking the table\n",
    "mycursor.execute(\"SELECT * FROM test1.test\")\n",
    "for i in mycursor.fetchall():\n",
    "    print(i)"
   ]
  },
  {
   "cell_type": "markdown",
   "id": "c63b2b91",
   "metadata": {},
   "source": [
    "#### UPDATE command example: \n",
    "Lets say we want to update email id from 'subhajit@mail.com' to 'subhajit24x7@gmail.com'"
   ]
  },
  {
   "cell_type": "code",
   "execution_count": 14,
   "id": "1d41ab1d",
   "metadata": {},
   "outputs": [],
   "source": [
    "# updating record\n",
    "mycursor.execute(\"UPDATE test1.test SET email_id = 'subhajit24x7@gmail.com' WHERE Name = 'Subhajit' \")\n",
    "mydb.commit()"
   ]
  },
  {
   "cell_type": "code",
   "execution_count": 15,
   "id": "1fef0bb6",
   "metadata": {},
   "outputs": [
    {
     "name": "stdout",
     "output_type": "stream",
     "text": [
      "(1234, 'Subhajit', 'subhajit24x7@gmail.com')\n"
     ]
    }
   ],
   "source": [
    "# checking the table\n",
    "mycursor.execute(\"SELECT * FROM test1.test\")\n",
    "for i in mycursor.fetchall():\n",
    "    print(i)"
   ]
  },
  {
   "cell_type": "markdown",
   "id": "5d3b02e1",
   "metadata": {},
   "source": [
    "#### DELETE command example: \n",
    "Lets say we want to delete the record"
   ]
  },
  {
   "cell_type": "code",
   "execution_count": 16,
   "id": "f537ca0c",
   "metadata": {},
   "outputs": [],
   "source": [
    "# deleting record\n",
    "mycursor.execute(\"DELETE FROM test1.test WHERE Name = 'Subhajit' \")\n",
    "mydb.commit()"
   ]
  },
  {
   "cell_type": "code",
   "execution_count": 17,
   "id": "e0076457",
   "metadata": {},
   "outputs": [],
   "source": [
    "# checking the table\n",
    "mycursor.execute(\"SELECT * FROM test1.test\")\n",
    "for i in mycursor.fetchall():\n",
    "    print(i)"
   ]
  },
  {
   "cell_type": "markdown",
   "id": "2ddeb45f",
   "metadata": {},
   "source": [
    "## Q4. What is DQL? Explain SELECT with an example.\n",
    "\n",
    "\n",
    "**Answer -**\n",
    "\n",
    "**DQL** stands for **Data Query Language**. DML Commands are used to retrieve data from a database table. DQL commands are used to query the data stored in a table.\n",
    "\n",
    "The most commonly used DQL command is SELECT. The SELECT command is used to retrieve data from one or more tables. Here's an example of how to use the SELECT command:\n",
    "\n",
    "To execute SQL queries in python, we need to import the module mysql.connector. Next we need to establish a connection under connection variable **mydb**. We try to establish it in local system with user id as \"root\" and passowrd \"mysql\". Next we have to create a cursor variable **mycursor** that acts like a reference pointer. For explaining DML queries, we create a database, a table and to insert records in it. "
   ]
  },
  {
   "cell_type": "code",
   "execution_count": 18,
   "id": "4e1b84c8",
   "metadata": {},
   "outputs": [],
   "source": [
    "# Importing Library\n",
    "import mysql.connector"
   ]
  },
  {
   "cell_type": "code",
   "execution_count": 19,
   "id": "11df67f4",
   "metadata": {},
   "outputs": [],
   "source": [
    "#Establishing connection (host - localhost user_id - root, password - mysql)\n",
    "mydb = mysql.connector.connect(host = \"localhost\", user =\"root\", password = \"mysql\")"
   ]
  },
  {
   "cell_type": "code",
   "execution_count": 20,
   "id": "ca88df31",
   "metadata": {},
   "outputs": [
    {
     "name": "stdout",
     "output_type": "stream",
     "text": [
      "<mysql.connector.connection_cext.CMySQLConnection object at 0x0000023D45BF33A0>\n"
     ]
    }
   ],
   "source": [
    "# to check the connection\n",
    "print(mydb)"
   ]
  },
  {
   "cell_type": "code",
   "execution_count": 21,
   "id": "a1ee5f98",
   "metadata": {},
   "outputs": [],
   "source": [
    "# Creating a cursor variable\n",
    "mycursor = mydb.cursor()"
   ]
  },
  {
   "cell_type": "code",
   "execution_count": 22,
   "id": "496bf08a",
   "metadata": {},
   "outputs": [],
   "source": [
    "# creating a database\n",
    "mycursor.execute(\"CREATE DATABASE IF NOT EXISTS test1\");\n",
    "# creating a table\n",
    "mycursor.execute(\"CREATE TABLE if not exists test1.test (ID_No INT, Name VARCHAR(50), email_id VARCHAR(50))\")"
   ]
  },
  {
   "cell_type": "code",
   "execution_count": 23,
   "id": "9ef1b2b9",
   "metadata": {},
   "outputs": [],
   "source": [
    "# inserting record into test table\n",
    "mycursor.execute(\"INSERT INTO test1.test VALUES(1234, 'Subhajit', 'subhajit@gmail.com')\")\n",
    "mydb.commit()"
   ]
  },
  {
   "cell_type": "markdown",
   "id": "22cc4c66",
   "metadata": {},
   "source": [
    "#### SELECT command example: \n",
    "Lets say we want to select Name from table test"
   ]
  },
  {
   "cell_type": "code",
   "execution_count": 24,
   "id": "6653b143",
   "metadata": {},
   "outputs": [
    {
     "name": "stdout",
     "output_type": "stream",
     "text": [
      "('Subhajit',)\n"
     ]
    }
   ],
   "source": [
    "#checking the table\n",
    "mycursor.execute(\"SELECT Name FROM test1.test\")\n",
    "for i in mycursor.fetchall():\n",
    "    print(i)"
   ]
  },
  {
   "cell_type": "markdown",
   "id": "8ca8ea74",
   "metadata": {},
   "source": [
    "## Q5. Explain Primary Key and Foreign Key.\n",
    "\n",
    "\n",
    "**Answer -**\n",
    "\n",
    "#### Primary Key\n",
    "A **primary key** is a unique identifier for each row in a table. It is a column or combination of columns that uniquely identifies each record in a table. The primary key constraint ensures that the values in the primary key column(s) are unique and not null thereby enforcing data integrity. \n",
    "\n",
    "\n",
    "#### Foreign Key\n",
    "A **foreign key** is a column or a set of columns in a table that refers to the primary key of another table. The foreign key is used to establish a relationship between two tables, where the values in the foreign key column(s) of one table match the values in the primary key column(s) of another table.\n",
    "\n",
    "A foreign key is a column or combination of columns in one table that refers to the primary key of another table. It establishes a relationship between two tables, where the values in the foreign key column(s) of one table match the values in the primary key column(s) of another table. \n",
    "\n",
    "We can explain the concept of Primary Key and Foreign Key better using the following example. We create a connection & cursor. We then create a database **company** that has two tables **users** and **orders**. In the **users** table, the \"id\" column can be the primary key if each user has a unique ID number. In the **orders** table, the \"user_id\" column can be a foreign key that refers to the \"id\" column of the \"users\" table, indicating which user placed each order."
   ]
  },
  {
   "cell_type": "code",
   "execution_count": 25,
   "id": "ba7b018c",
   "metadata": {},
   "outputs": [],
   "source": [
    "# Importing Library\n",
    "import mysql.connector"
   ]
  },
  {
   "cell_type": "code",
   "execution_count": 26,
   "id": "f842a994",
   "metadata": {},
   "outputs": [],
   "source": [
    "#Establishing connection (host - localhost user_id - root, password - mysql)\n",
    "mydb = mysql.connector.connect(host = \"localhost\", user =\"root\", password = \"mysql\")"
   ]
  },
  {
   "cell_type": "code",
   "execution_count": 27,
   "id": "86610cfa",
   "metadata": {},
   "outputs": [],
   "source": [
    "# Creating a cursor variable\n",
    "mycursor = mydb.cursor()"
   ]
  },
  {
   "cell_type": "code",
   "execution_count": 28,
   "id": "719607fc",
   "metadata": {},
   "outputs": [],
   "source": [
    "# creating a database\n",
    "mycursor.execute(\"CREATE DATABASE IF NOT EXISTS company\");"
   ]
  },
  {
   "cell_type": "code",
   "execution_count": 34,
   "id": "635d1ac3",
   "metadata": {},
   "outputs": [],
   "source": [
    "# creating table users\n",
    "mycursor.execute(\"CREATE TABLE IF NOT EXISTS company.users(customer_id INT PRIMARY KEY, first_name VARCHAR(50), last_name VARCHAR(50), email VARCHAR(100))\")"
   ]
  },
  {
   "cell_type": "code",
   "execution_count": 35,
   "id": "6aff21e8",
   "metadata": {},
   "outputs": [],
   "source": [
    "#checking the table\n",
    "mycursor.execute(\"SELECT * FROM company.users\")\n",
    "for i in mycursor.fetchall():\n",
    "    print(i)"
   ]
  },
  {
   "cell_type": "code",
   "execution_count": 36,
   "id": "0b9bf257",
   "metadata": {},
   "outputs": [],
   "source": [
    "# creating table orders\n",
    "mycursor.execute(\"CREATE TABLE company.orders(order_id INT PRIMARY KEY, order_date DATE, customer_id INT, total_amount DECIMAL(10,2), FOREIGN KEY (customer_id) REFERENCES users(customer_id))\")"
   ]
  },
  {
   "cell_type": "code",
   "execution_count": 37,
   "id": "5f7138de",
   "metadata": {},
   "outputs": [],
   "source": [
    "#checking the table\n",
    "mycursor.execute(\"SELECT * FROM company.orders\")\n",
    "for i in mycursor.fetchall():\n",
    "    print(i)"
   ]
  },
  {
   "cell_type": "markdown",
   "id": "eea364a8",
   "metadata": {},
   "source": [
    "## Q6. Write a python code to connect MySQL to python. Explain the cursor() and execute() method.\n",
    "\n",
    "\n",
    "**Answer -**\n",
    "To execute SQL queries in python, we need to install and import the module `mysql.connector`. Next we need to establish a connection under connection variable **mydb**. We try to establish it in local system with user id as \"root\" and passowrd \"mysql\". Next we have to create a cursor variable **mycursor** that acts like a reference pointer. \n",
    "\n",
    "The **cursor()** is a mysql.connector class method in Python is used to create a cursor object, which allows us to execute SQL commands on the database. The cursor object provides methods to execute SQL commands, fetch data from the database, and handle transactions.\n",
    "\n",
    "The **execute()** method is used to execute SQL commands on the database using the cursor object. It takes an SQL query as its argument and returns the result of the query. For example, to execute a SELECT query on a MySQL database using the cursor object,"
   ]
  },
  {
   "cell_type": "code",
   "execution_count": 38,
   "id": "3f046645",
   "metadata": {},
   "outputs": [],
   "source": [
    "# Importing Library\n",
    "import mysql.connector"
   ]
  },
  {
   "cell_type": "code",
   "execution_count": 39,
   "id": "7f1821ad",
   "metadata": {},
   "outputs": [],
   "source": [
    "#Establishing connection (host - localhost user_id - root, password - mysql)\n",
    "mydb = mysql.connector.connect(host = \"localhost\", user =\"root\", password = \"mysql\")"
   ]
  },
  {
   "cell_type": "code",
   "execution_count": 40,
   "id": "8bf81fbb",
   "metadata": {},
   "outputs": [
    {
     "name": "stdout",
     "output_type": "stream",
     "text": [
      "<mysql.connector.connection_cext.CMySQLConnection object at 0x0000023D45CF9520>\n"
     ]
    }
   ],
   "source": [
    "# to check the connection\n",
    "print(mydb)"
   ]
  },
  {
   "cell_type": "code",
   "execution_count": 41,
   "id": "6cdf87c3",
   "metadata": {},
   "outputs": [],
   "source": [
    "# Creating a cursor variable\n",
    "mycursor = mydb.cursor()"
   ]
  },
  {
   "cell_type": "code",
   "execution_count": 42,
   "id": "9fdec2f2",
   "metadata": {},
   "outputs": [],
   "source": [
    "# creating a database\n",
    "mycursor.execute(\"CREATE DATABASE IF NOT EXISTS test1\");\n",
    "# creating a table\n",
    "mycursor.execute(\"CREATE TABLE if not exists test1.test (ID_No INT, Name VARCHAR(50), email_id VARCHAR(50))\")"
   ]
  },
  {
   "cell_type": "code",
   "execution_count": 43,
   "id": "0eb7e856",
   "metadata": {},
   "outputs": [
    {
     "data": {
      "text/plain": [
       "[('bank_marketing',),\n",
       " ('company',),\n",
       " ('dress_data',),\n",
       " ('information_schema',),\n",
       " ('institute',),\n",
       " ('mysql',),\n",
       " ('performance_schema',),\n",
       " ('sakila',),\n",
       " ('sales',),\n",
       " ('sys',),\n",
       " ('test1',),\n",
       " ('world',)]"
      ]
     },
     "execution_count": 43,
     "metadata": {},
     "output_type": "execute_result"
    }
   ],
   "source": [
    "# checking database\n",
    "mycursor.execute(\"SHOW databases\")\n",
    "mycursor.fetchall()"
   ]
  },
  {
   "cell_type": "code",
   "execution_count": 44,
   "id": "5f291f21",
   "metadata": {},
   "outputs": [
    {
     "data": {
      "text/plain": [
       "[('test',)]"
      ]
     },
     "execution_count": 44,
     "metadata": {},
     "output_type": "execute_result"
    }
   ],
   "source": [
    "# checking tables\n",
    "mycursor.execute(\"use test1\") #selecting database test1\n",
    "mycursor.execute(\"SHOW tables\")\n",
    "mycursor.fetchall()"
   ]
  },
  {
   "cell_type": "code",
   "execution_count": 45,
   "id": "056c5c30",
   "metadata": {},
   "outputs": [
    {
     "name": "stdout",
     "output_type": "stream",
     "text": [
      "(1234, 'Subhajit', 'subhajit@gmail.com')\n"
     ]
    }
   ],
   "source": [
    "# checking structure of test table\n",
    "mycursor.execute(\"SELECT * FROM test1.test\")\n",
    "for i in mycursor.fetchall():\n",
    "    print(i)"
   ]
  },
  {
   "cell_type": "markdown",
   "id": "cab89c16",
   "metadata": {},
   "source": [
    "## Q7. Give the order of execution of SQL clauses in an SQL query.\n",
    "\n",
    "\n",
    "**Answer -**\n",
    "The clauses in a SQL Query are executed in the following order:\n",
    "\n",
    "* 1. **FROM clause**: Specifies the table or tables from which to retrieve data.\n",
    "\n",
    "* 2. **JOIN clause**: Specifies how to join multiple tables together, if needed.\n",
    "\n",
    "* 3. **WHERE clause**: Specifies which rows to retrieve based on a set of conditions.\n",
    "\n",
    "* 4. **GROUP BY clause**: Specifies how to group rows based on one or more columns.\n",
    "\n",
    "* 5. **HAVING clause**: Specifies which groups to retrieve based on a set of conditions.\n",
    "\n",
    "* 6. **SELECT clause**: Specifies which columns to retrieve.\n",
    "\n",
    "* 7. **DISTINCT clause**: Specifies to retrieve only distinct values of the specified columns.\n",
    "\n",
    "* 8. **ORDER BY clause**: Specifies how to sort the retrieved rows based on one or more columns.\n",
    "\n",
    "* 9. **LIMIT clause**: Specifies the maximum number of rows to retrieve."
   ]
  },
  {
   "cell_type": "code",
   "execution_count": null,
   "id": "6365240b",
   "metadata": {},
   "outputs": [],
   "source": []
  }
 ],
 "metadata": {
  "kernelspec": {
   "display_name": "Python 3",
   "language": "python",
   "name": "python3"
  },
  "language_info": {
   "codemirror_mode": {
    "name": "ipython",
    "version": 3
   },
   "file_extension": ".py",
   "mimetype": "text/x-python",
   "name": "python",
   "nbconvert_exporter": "python",
   "pygments_lexer": "ipython3",
   "version": "3.8.8"
  }
 },
 "nbformat": 4,
 "nbformat_minor": 5
}
