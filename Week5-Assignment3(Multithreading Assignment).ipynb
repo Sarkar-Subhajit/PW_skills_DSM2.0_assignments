{
 "cells": [
  {
   "cell_type": "markdown",
   "id": "9a04662f",
   "metadata": {},
   "source": [
    "# Week 5 - Assignment3 (Multithreading Assignment) Solutions\n",
    "\n",
    "\n",
    "### Q1. What is multithreading in python? Why is it used? Name the module used to handle threads in python.\n",
    "\n",
    "**Answer -**\n",
    "**Multithreading** is a way of achieving multitasking. In multithreading, the concept of threads are used. A thread is a sequence of such instructions within a program that can be executed independently of other code. Multihreading tries to create multiple threads or subprocesses of the same program within one core of processor and execute it. Thus, in threading, we can collect all the resources within a core and execute a program. \n",
    "\n",
    "By using multiplethreading, we can optimise a single core/processor and perform multiple tasks. Multithreading allows many parts of a program to run simultaneously. These parts are referred to as threads, and they are lightweight processes that are available within the process. As a result, multithreading increases CPU utilization through multitasking. In multithreading, a computer may execute and process multiple tasks simultaneously.\n",
    "\n",
    "To handle threads in python, one needs to import module **threading**"
   ]
  },
  {
   "cell_type": "markdown",
   "id": "80bbcd1d",
   "metadata": {},
   "source": [
    "### Q2. Why threading module used? Write the use of the following functions:\n",
    "\n",
    "**Answer -**    \n",
    "The threading module is used for creating, controlling and managing threads in python that allows a user to have different parts of a program run concurrently and can simplify the design.\n",
    "\n",
    "##### a. activeCount() \n",
    "**Answer -**\n",
    "***threading.activeCount()*** − Returns the number of thread objects that are currently active. For Example,"
   ]
  },
  {
   "cell_type": "code",
   "execution_count": 5,
   "id": "75c28475",
   "metadata": {},
   "outputs": [
    {
     "name": "stdout",
     "output_type": "stream",
     "text": [
      "No. of active threads is  7\n"
     ]
    }
   ],
   "source": [
    "import time\n",
    "import threading\n",
    "\n",
    "def thread1(i):\n",
    "    time.sleep(3)\n",
    "    #print('No. printed by Thread 1: %d' %i)\n",
    "\n",
    "def thread2(i):\n",
    "    time.sleep(3)\n",
    "    #print('No. printed by Thread 2: %d' %i)\n",
    "\n",
    "if __name__ == '__main__':\n",
    "    t1 = threading.Thread(target=thread1, args=(10,))\n",
    "    t2 = threading.Thread(target=thread2, args=(12,))\n",
    "    t1.start()\n",
    "    t2.start()\n",
    "    print(\"No. of active threads is \", threading.active_count())\n",
    "    t1.join()\n",
    "    t2.join()"
   ]
  },
  {
   "cell_type": "markdown",
   "id": "91a405e3",
   "metadata": {},
   "source": [
    "##### b. currentThread()\n",
    "\n",
    "**Answer -**      \n",
    "***threading.current_thread()*** - Returns the number of thread objects in the caller's thread control. For Example,"
   ]
  },
  {
   "cell_type": "code",
   "execution_count": 4,
   "id": "037be501",
   "metadata": {},
   "outputs": [
    {
     "name": "stdout",
     "output_type": "stream",
     "text": [
      "No. of active threads is  7\n"
     ]
    }
   ],
   "source": [
    "import time\n",
    "import threading\n",
    "\n",
    "def thread1(i):\n",
    "    time.sleep(3)\n",
    "    #print('No. printed by Thread 1: %d' %i)\n",
    "\n",
    "def thread2(i):\n",
    "    time.sleep(3)\n",
    "    #print('No. printed by Thread 2: %d' %i)\n",
    "\n",
    "if __name__ == '__main__':\n",
    "    t1 = threading.Thread(target=thread1, args=(10,))\n",
    "    t2 = threading.Thread(target=thread2, args=(12,))\n",
    "    t1.start()\n",
    "    t2.start()\n",
    "    print(\"Current thread is: \" + threading.current_thread())\n",
    "    t1.join()\n",
    "    t2.join()"
   ]
  },
  {
   "cell_type": "markdown",
   "id": "4ff97cb3",
   "metadata": {},
   "source": [
    "##### c. enumerate()\n",
    "\n",
    "**Answer -**\n",
    "***threading.enumerate()*** − Returns a list of all thread objects that are currently active."
   ]
  },
  {
   "cell_type": "code",
   "execution_count": 6,
   "id": "73e244e9",
   "metadata": {},
   "outputs": [
    {
     "data": {
      "text/plain": [
       "[<_MainThread(MainThread, started 2244)>,\n",
       " <Thread(Thread-4, started daemon 8876)>,\n",
       " <Heartbeat(Thread-5, started daemon 10028)>,\n",
       " <HistorySavingThread(IPythonHistorySavingThread, started 5152)>,\n",
       " <ParentPollerWindows(Thread-3, started daemon 13008)>]"
      ]
     },
     "execution_count": 6,
     "metadata": {},
     "output_type": "execute_result"
    }
   ],
   "source": [
    " threading.enumerate()"
   ]
  },
  {
   "cell_type": "markdown",
   "id": "98009555",
   "metadata": {},
   "source": [
    "### Q3. Explain the following functions:\n",
    "\n",
    "##### a. run()\n",
    "\n",
    "**Answer -** \n",
    "***run()***  − The run() method is the entry point for a thread. It executes any target function belonging to a given thread object that is now active. It normally executes in the background after the .start() method is invoked. For example,"
   ]
  },
  {
   "cell_type": "code",
   "execution_count": 18,
   "id": "5dd290ad",
   "metadata": {},
   "outputs": [
    {
     "name": "stdout",
     "output_type": "stream",
     "text": [
      "This is my custom run!\n"
     ]
    }
   ],
   "source": [
    "import threading\n",
    "\n",
    "class CustomThread(threading.Thread):\n",
    "    def run(self):\n",
    "        print(\"This is my custom run!\")\n",
    "\n",
    "custom_thread = CustomThread()\n",
    "custom_thread.start()"
   ]
  },
  {
   "cell_type": "markdown",
   "id": "a29d3fb2",
   "metadata": {},
   "source": [
    "##### b. start()\n",
    "\n",
    "**Answer -** \n",
    "start()  − The start() method starts a thread by calling the run method. The .start() method activates and prompts a thread object to be run. For example, "
   ]
  },
  {
   "cell_type": "code",
   "execution_count": 19,
   "id": "448e8b11",
   "metadata": {},
   "outputs": [
    {
     "name": "stdout",
     "output_type": "stream",
     "text": [
      "Task done!\n"
     ]
    }
   ],
   "source": [
    "import threading\n",
    "\n",
    "def do_this():\n",
    "    print(\"Task done!\")\n",
    "\n",
    "my_thread = threading.Thread(target=do_this)\n",
    "\n",
    "my_thread.start()"
   ]
  },
  {
   "cell_type": "markdown",
   "id": "5e0f9c2f",
   "metadata": {},
   "source": [
    "##### c. join()\n",
    " \n",
    "**Answer -**      \n",
    "join([time])  − The join() waits for threads to terminate. The .join() method delays a program’s flow of execution until the target thread has been completely read. For example, "
   ]
  },
  {
   "cell_type": "code",
   "execution_count": 20,
   "id": "6db745d6",
   "metadata": {},
   "outputs": [
    {
     "name": "stdout",
     "output_type": "stream",
     "text": [
      "Starting...\n",
      "True\n",
      "Finished\n",
      "Starting...\n",
      "False\n",
      "Finished\n"
     ]
    }
   ],
   "source": [
    "import threading\n",
    "\n",
    "def is_divisible(dividend, divisor):\n",
    "  print(\"Starting...\")\n",
    "  if(dividend % divisor == 0):\n",
    "    print(True)\n",
    "  else:\n",
    "    print(False)\n",
    "  print(\"Finished\")\n",
    "\n",
    "thread_A = threading.Thread(target=is_divisible, args=(28, 14))\n",
    "thread_B = threading.Thread(target=is_divisible, args=(34, 7))\n",
    "\n",
    "thread_A.start()\n",
    "thread_A.join()\n",
    "\n",
    "thread_B.start()\n",
    "thread_B.join()"
   ]
  },
  {
   "cell_type": "markdown",
   "id": "19ded6fe",
   "metadata": {},
   "source": [
    "##### d. isAlive()\n",
    "\n",
    "**Answer -**\n",
    "isAlive()  − The isAlive() method checks whether a thread is still executing. For example,"
   ]
  },
  {
   "cell_type": "code",
   "execution_count": 17,
   "id": "1fce9440",
   "metadata": {},
   "outputs": [
    {
     "name": "stdout",
     "output_type": "stream",
     "text": [
      "Thread alive? True\n",
      "Counting down...\n",
      "5 left\n",
      "4 left\n",
      "3 left\n",
      "2 left\n",
      "1 left\n",
      "We made it!\n",
      "Thread still alive? False\n",
      "End of program.\n"
     ]
    }
   ],
   "source": [
    "import threading\n",
    "\n",
    "def countdown(count):\n",
    "  print(f'Thread alive? {thread.is_alive()}')\n",
    "  print(\"Counting down...\")\n",
    "  while count > 0:\n",
    "    print(f'{count} left')\n",
    "    count -= 1\n",
    "  print(\"We made it!\")\n",
    "\n",
    "thread = threading.Thread(target=countdown, args=(5,))\n",
    "\n",
    "thread.start()\n",
    "thread.join()\n",
    "\n",
    "print(f'Thread still alive? {thread.is_alive()}')\n",
    "print(\"End of program.\")"
   ]
  },
  {
   "cell_type": "markdown",
   "id": "9b96b69e",
   "metadata": {},
   "source": [
    "### Q4. Write a python program to create two threads. Thread one must print the list of squares and thread two must print the list of cubes\n",
    "\n",
    "**Answer -** The code is given below:"
   ]
  },
  {
   "cell_type": "code",
   "execution_count": 29,
   "id": "3c41cfc6",
   "metadata": {},
   "outputs": [
    {
     "name": "stdout",
     "output_type": "stream",
     "text": [
      "Square of 1 is 1\n",
      "Square of 2 is 4\n",
      "Square of 3 is 9\n",
      "Square of 4 is 16\n",
      "Square of 5 is 25\n",
      "Cube of 1 is 1\n",
      "Cube of 2 is 8\n",
      "Cube of 3 is 27\n",
      "Cube of 4 is 64\n",
      "Cube of 5 is 125\n"
     ]
    }
   ],
   "source": [
    "from threading import Thread\n",
    "\n",
    "def square():\n",
    "    for a in range(1,6):\n",
    "        print(\"Square of {} is {}\".format(a, a**2))\n",
    "\n",
    "def cube():\n",
    "    for a in range(1,6):\n",
    "        print(\"Cube of {} is {}\".format(a, a**3))\n",
    "    \n",
    "t1 = Thread(target= square )\n",
    "t2 = Thread(target=cube)\n",
    "\n",
    "t1.start()\n",
    "t2.start()"
   ]
  },
  {
   "cell_type": "markdown",
   "id": "a93685f4",
   "metadata": {},
   "source": [
    "### Q5. State advantages and disadvantages of multithreading\n",
    "\n",
    "**Answer -**\n",
    "\n",
    "**Advantages of Multithreading** are:\n",
    "\n",
    "* Enhanced performance by decreased development time\n",
    "* Simplified and streamlined program coding\n",
    "* Improvised GUI responsiveness\n",
    "* Simultaneous and parallelized occurrence of tasks\n",
    "* Better use of cache storage by utilization of resources\n",
    "* Decreased cost of maintenance\n",
    "* Better use of CPU resource\n",
    "\n",
    "**Disadvantages of Multithreading** are:\n",
    "* Complex debugging and testing processes\n",
    "* Overhead switching of context\n",
    "* Increased potential for deadlock occurrence\n",
    "* Increased difficulty level in writing a program\n",
    "* Unpredictable results"
   ]
  },
  {
   "cell_type": "markdown",
   "id": "e5138b2e",
   "metadata": {},
   "source": [
    "### Q6. Explain deadlocks and race conditions.\n",
    "\n",
    "**Answer -**\n",
    "\n",
    "**Race Condition -** A most common operational issue with multi-threaded applications, a racing attack is an unwanted situation referring to the incidences when a multithread tool tries to accomplish more than one task at a time. But, the predefined sequencing of that specific program/device will not let it happen as the device/software must follow the default sequence. In short, it is a condition When two processes are competing with each other causing data corruption. For example, if two processes/threads are trying to execute the two conditions simultaneously, they cause data corruption:"
   ]
  },
  {
   "cell_type": "code",
   "execution_count": 21,
   "id": "05134dc8",
   "metadata": {},
   "outputs": [
    {
     "name": "stdout",
     "output_type": "stream",
     "text": [
      "Thread-27 increments x by 5, x: 15\n",
      "Thread-28 increments x by 10, x: 20\n",
      "The final value of x is 20\n"
     ]
    }
   ],
   "source": [
    "import threading\n",
    "import time\n",
    " \n",
    "x = 10\n",
    " \n",
    "def increment(increment_by):\n",
    "    global x\n",
    " \n",
    "    local_counter = x\n",
    "    local_counter += increment_by\n",
    " \n",
    "    time.sleep(1)\n",
    " \n",
    "    x = local_counter\n",
    "    print(f'{threading.current_thread().name} increments x by {increment_by}, x: {x}')\n",
    "\n",
    "# creating threads\n",
    "t1 = threading.Thread(target=increment, args=(5,))\n",
    "t2 = threading.Thread(target=increment, args=(10,))\n",
    " \n",
    "# starting the threads\n",
    "t1.start()\n",
    "t2.start()\n",
    " \n",
    "# waiting for the threads to complete\n",
    "t1.join()\n",
    "t2.join()\n",
    " \n",
    "print(f'The final value of x is {x}')"
   ]
  },
  {
   "cell_type": "markdown",
   "id": "1df87d32",
   "metadata": {},
   "source": [
    "**Deadlock Condition -** When two processes are waiting for each other directly or indirectly, it is called deadlock. This usually occurs when two processes are waiting for shared resources acquired by others. The result is that the deadlock threads are unable to progress and the program is stuck or frozen and must be terminated forcefully."
   ]
  },
  {
   "cell_type": "code",
   "execution_count": null,
   "id": "8656e8ee",
   "metadata": {},
   "outputs": [],
   "source": []
  }
 ],
 "metadata": {
  "kernelspec": {
   "display_name": "Python 3",
   "language": "python",
   "name": "python3"
  },
  "language_info": {
   "codemirror_mode": {
    "name": "ipython",
    "version": 3
   },
   "file_extension": ".py",
   "mimetype": "text/x-python",
   "name": "python",
   "nbconvert_exporter": "python",
   "pygments_lexer": "ipython3",
   "version": "3.8.8"
  }
 },
 "nbformat": 4,
 "nbformat_minor": 5
}
