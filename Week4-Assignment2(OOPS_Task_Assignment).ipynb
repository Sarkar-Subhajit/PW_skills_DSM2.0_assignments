{
 "cells": [
  {
   "cell_type": "markdown",
   "id": "da95039b",
   "metadata": {},
   "source": [
    "## Week 4 - Assignment 2 (OOPS_Task_Assignment) Solutions\n",
    "\n",
    "\n",
    "### Q1. Create a vehicle class with an init method having instance variables as name_of_vehicle, max_speed and average_of_vehicle.\n",
    "\n",
    "**Answer -**\n",
    "\n",
    "The code is given below."
   ]
  },
  {
   "cell_type": "code",
   "execution_count": 11,
   "id": "7429f100",
   "metadata": {},
   "outputs": [],
   "source": [
    "class vehicle:\n",
    "    \n",
    "    def __init__(self, name_of_vehicle, max_speed, average_of_vehicle):\n",
    "        self.name_of_vehicle = name_of_vehicle\n",
    "        self.max_speed = max_speed\n",
    "        self.average_of_vehicle = average_of_vehicle"
   ]
  },
  {
   "cell_type": "code",
   "execution_count": 28,
   "id": "816b8d19",
   "metadata": {},
   "outputs": [],
   "source": [
    "a = vehicle(\"Tata Nexon\", 180, 15)"
   ]
  },
  {
   "cell_type": "code",
   "execution_count": 29,
   "id": "b81ad4f6",
   "metadata": {},
   "outputs": [
    {
     "name": "stdout",
     "output_type": "stream",
     "text": [
      "Vehicle name is Tata Nexon\n",
      "That has a maximum speed of 180 kmph\n",
      "And gives an average of 15 kmpl\n"
     ]
    }
   ],
   "source": [
    "print(\"Vehicle name is\", a.name_of_vehicle)\n",
    "print(\"That has a maximum speed of\", a.max_speed, \"kmph\")\n",
    "print(\"And gives an average of\", a.average_of_vehicle, \"kmpl\")"
   ]
  },
  {
   "cell_type": "markdown",
   "id": "93b6d897",
   "metadata": {},
   "source": [
    "### Q2. Create a child class car from the vehicle class created in Que 1, which will inherit the vehicle class. Create a method named seating_capacity which takes capacity as an argument and returns the name of the vehicle and its seating capacity.\n",
    "\n",
    "**Answer -** \n",
    "\n",
    "The code is given below."
   ]
  },
  {
   "cell_type": "code",
   "execution_count": 23,
   "id": "c3b32248",
   "metadata": {},
   "outputs": [],
   "source": [
    "# Child class car is inheriting the properties of Parent class vehicle.\n",
    "class car(vehicle):\n",
    "    \n",
    "    def seating_capacity(self, capacity):\n",
    "        return f\"The seating capacity of {self.name_of_vehicle} is {capacity} person\""
   ]
  },
  {
   "cell_type": "code",
   "execution_count": 24,
   "id": "a301a590",
   "metadata": {},
   "outputs": [],
   "source": [
    "Nexon = car(\"Nexon\", 180, 12)"
   ]
  },
  {
   "cell_type": "code",
   "execution_count": 27,
   "id": "05a0bfac",
   "metadata": {},
   "outputs": [
    {
     "data": {
      "text/plain": [
       "'The seating capacity of Nexon is 5 person'"
      ]
     },
     "execution_count": 27,
     "metadata": {},
     "output_type": "execute_result"
    }
   ],
   "source": [
    "Nexon.seating_capacity(5)"
   ]
  },
  {
   "cell_type": "markdown",
   "id": "c6705616",
   "metadata": {},
   "source": [
    "### Q3. What is multiple inheritance? Write a python code to demonstrate multiple inheritance.\n",
    "\n",
    "**Answer -** \n",
    "\n",
    "When a class can be derived from more than one base class this type of inheritance is called multiple inheritances. In multiple inheritances, all the features of the parent classes are inherited into the child class. For example, we create 2 parent classes named Mother and Father and create a child class Son. While creating child class, we write class child_class(parent_class1,parent_class2)"
   ]
  },
  {
   "cell_type": "code",
   "execution_count": 1,
   "id": "a63e5834",
   "metadata": {},
   "outputs": [],
   "source": [
    "# CREATING PARENT CLASS 1\n",
    "class Mother:\n",
    "    mothername = \"\"\n",
    " \n",
    "    def mother(self):\n",
    "        print(self.mothername)\n",
    "\n",
    "# CREATING PARENT CLASS 2 \n",
    "class Father:\n",
    "    fathername = \"\"\n",
    " \n",
    "    def father(self):\n",
    "        print(self.fathername)"
   ]
  },
  {
   "cell_type": "code",
   "execution_count": 2,
   "id": "ea77dfa1",
   "metadata": {},
   "outputs": [],
   "source": [
    "# CREATING CHILD CLASS\n",
    "class Son(Mother, Father):\n",
    "    def parents(self):\n",
    "        print(\"Father :\", self.fathername)\n",
    "        print(\"Mother :\", self.mothername)"
   ]
  },
  {
   "cell_type": "code",
   "execution_count": 30,
   "id": "fa62626a",
   "metadata": {},
   "outputs": [
    {
     "name": "stdout",
     "output_type": "stream",
     "text": [
      "Father : Susanta Sarkar\n",
      "Mother : Chhabi Sarkar\n"
     ]
    }
   ],
   "source": [
    "# ASSIGNING OBJECT TO CHILD CLASS WITH VALUES\n",
    "s1 = Son()\n",
    "\n",
    "# UPDATING VALUES\n",
    "s1.mothername = \"Chhabi Sarkar\"\n",
    "s1.fathername = \"Susanta Sarkar\"\n",
    "# CALLING VALUES\n",
    "s1.parents()"
   ]
  },
  {
   "cell_type": "markdown",
   "id": "d951387f",
   "metadata": {},
   "source": [
    "### Q4. What are getter and setter in python? Create a class and create a getter and a setter method in this class.\n",
    "\n",
    "**Answer -** \n",
    "\n",
    "The main purpose of using ***getter*** and ***setter*** in python OOPS is to access and modify encapsulated data. Both getter and setter is a ***Property Decorator*** that allows a user to access the encapsulated/hidden data without knowledge of the python class or the variable name. \n",
    "\n",
    "Consider the following example where we have created a class pwskills that takes input course_price and course_name. We have encapsulated the variable course_price so that it cannot be accessed by any user. However we can make a method to access the course price by creating another variable `course_price_access` and mentioning the property decorator `@property` before it. This is the **Getter Method** and by using `course_price_access` we can see the course price. In **Setter Method**, we mention the property decorator `@course_price_access.setter` and then define a variable `course_price_set` that takes input price. If the price is less than equal to 3500, it will pass else, it will modify the price."
   ]
  },
  {
   "cell_type": "code",
   "execution_count": 40,
   "id": "d134bfc5",
   "metadata": {},
   "outputs": [],
   "source": [
    "class pwskills:\n",
    "    \n",
    "    def __init__(self, course_price, course_name):\n",
    "        self.__course_price = course_price          \n",
    "        self.course_name = course_name   \n",
    "        \n",
    "    # Getter method to access course price   \n",
    "    @property\n",
    "    def course_price_access(self):\n",
    "        return self.__course_price\n",
    "    \n",
    "    # Setter method to modify course price\n",
    "    @course_price_access.setter\n",
    "    def course_price_set(self,price):\n",
    "        if price <= 3500:\n",
    "            pass\n",
    "        else :\n",
    "            self.__course_price = price"
   ]
  },
  {
   "cell_type": "code",
   "execution_count": 43,
   "id": "44b5fa13",
   "metadata": {},
   "outputs": [],
   "source": [
    "# Assigning object pw to class pwskills\n",
    "\n",
    "pw = pwskills(3500,\"Data Science Masters\")"
   ]
  },
  {
   "cell_type": "code",
   "execution_count": 44,
   "id": "bdfdee75",
   "metadata": {},
   "outputs": [
    {
     "data": {
      "text/plain": [
       "3500"
      ]
     },
     "execution_count": 44,
     "metadata": {},
     "output_type": "execute_result"
    }
   ],
   "source": [
    "# Accessing the encapsulated course price by getter method\n",
    "\n",
    "pw.course_price_access"
   ]
  },
  {
   "cell_type": "code",
   "execution_count": 46,
   "id": "54cb6945",
   "metadata": {},
   "outputs": [
    {
     "data": {
      "text/plain": [
       "3800"
      ]
     },
     "execution_count": 46,
     "metadata": {},
     "output_type": "execute_result"
    }
   ],
   "source": [
    "# Changing the encapsulated course price from 3500 to 3800 by setter method\n",
    "\n",
    "pw.course_price_set = 3800\n",
    "\n",
    "#checking new price of course\n",
    "\n",
    "pw.course_price_access"
   ]
  },
  {
   "cell_type": "markdown",
   "id": "3ab242b9",
   "metadata": {},
   "source": [
    "### Q5.What is method overriding in python? Write a python code to demonstrate method overriding.\n",
    "\n",
    "**Answer -** \n",
    "\n",
    "**Method Overriding** in Python is an OOPs concept closely related to inheritance. When a child class method overrides(or, provides it's own implementation) the parent class method of the same name, parameters and return type, it is known as method overriding.\n",
    "\n",
    "Consider the following example. In this case, the child class's method is called the ***overriding method*** and the parent class's method is called the ****overriden method***."
   ]
  },
  {
   "cell_type": "code",
   "execution_count": 47,
   "id": "094d92e7",
   "metadata": {},
   "outputs": [],
   "source": [
    "# Parent class \n",
    "class Shape:\n",
    "    # properties \n",
    "    data1 = \"abc\"\n",
    "\n",
    "    # function no_of_sides \n",
    "    def no_of_sides(self):\n",
    "        print(\"My sides need to be defined. I am from shape class.\")\n",
    "\n",
    "    # function two_dimensional \n",
    "    def two_dimensional(self):\n",
    "        print(\"I am a 2D object. I am from shape class\")"
   ]
  },
  {
   "cell_type": "code",
   "execution_count": 48,
   "id": "b7ce801a",
   "metadata": {},
   "outputs": [],
   "source": [
    "class Square (Shape):\n",
    "    data2 = \"XYZ\"\n",
    "\n",
    "    def no_of_sides (self):\n",
    "        print(\"I have 4 sides. I am from Square class\")\n",
    "\n",
    "    def color(self):\n",
    "        print(\"I have teal color. I am from Square class.\")"
   ]
  },
  {
   "cell_type": "markdown",
   "id": "d39affee",
   "metadata": {},
   "source": [
    "In the child class - Square, we have overridden the method no_of_sides() adding our own implementation.\n",
    "\n",
    "So now, when we create an object of the Square class and call the method no_of_sides() it will override the already exsisting version of the parent class."
   ]
  },
  {
   "cell_type": "code",
   "execution_count": 52,
   "id": "f7d5f3bd",
   "metadata": {},
   "outputs": [
    {
     "name": "stdout",
     "output_type": "stream",
     "text": [
      "I have 4 sides. I am from Square class\n",
      "I am a 2D object. I am from shape class\n",
      "I have teal color. I am from Square class.\n",
      "Old value of data1 =  abc\n"
     ]
    }
   ],
   "source": [
    "# Create an object of Square class \n",
    "sq = Square() \n",
    "# Override the no_of_sides of parent class \n",
    "sq.no_of_sides() \n",
    "# Will inherit this method from the parent class\n",
    "sq.two_dimensional() \n",
    "# It's own method color \n",
    "sq.color()\n",
    "print(\"Old value of data1 = \", sq.data1)"
   ]
  },
  {
   "cell_type": "code",
   "execution_count": 54,
   "id": "f5ef12a7",
   "metadata": {},
   "outputs": [
    {
     "name": "stdout",
     "output_type": "stream",
     "text": [
      "The value of data1 in Shape class over ridden by the Square class =  New value\n"
     ]
    }
   ],
   "source": [
    "# Override property of the Parent class\n",
    "sq.data1 = \"New value\"\n",
    "print(\"The value of data1 in Shape class over ridden by the Square class = \", sq.data1)"
   ]
  }
 ],
 "metadata": {
  "kernelspec": {
   "display_name": "Python 3",
   "language": "python",
   "name": "python3"
  },
  "language_info": {
   "codemirror_mode": {
    "name": "ipython",
    "version": 3
   },
   "file_extension": ".py",
   "mimetype": "text/x-python",
   "name": "python",
   "nbconvert_exporter": "python",
   "pygments_lexer": "ipython3",
   "version": "3.8.8"
  }
 },
 "nbformat": 4,
 "nbformat_minor": 5
}
