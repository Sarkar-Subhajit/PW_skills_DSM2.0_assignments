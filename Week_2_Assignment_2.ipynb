{
 "cells": [
  {
   "cell_type": "markdown",
   "id": "49c857ec",
   "metadata": {},
   "source": [
    "## Week 1 - Assignment 2 Solutions\n",
    "\n",
    "### Q1. How do you comment code in Python? What are the different types of comments?\n",
    "\n",
    "**Answer -** In python, we can comment in 2 ways inside a code :\n",
    "\n",
    "* Single line comment - We use a # before the comment.\n",
    "* Multi line Comment - We can use # in each line before commenting, or use ''' or \"\"\" at the start and end of the comment.\n",
    "* String Literals - We can use the comment as a string and print it.\n",
    "* Doc string - Usually used within triple quotes that are appeared right after the function"
   ]
  },
  {
   "cell_type": "code",
   "execution_count": 3,
   "id": "c886d773",
   "metadata": {},
   "outputs": [
    {
     "name": "stdout",
     "output_type": "stream",
     "text": [
      "This way we can add a comment as string literals\n",
      "6\n"
     ]
    }
   ],
   "source": [
    "# 1. This is a single line comment.\n",
    "\n",
    "# 2. We can use this\n",
    "#as multi line comment.\n",
    "\n",
    "''' 3. A multiline comment can also\n",
    "be added like this'''\n",
    "\n",
    "print(\"4. This way we can add a comment as string literals\")\n",
    "\n",
    "\n",
    "def multiply(a, b):\n",
    "    \"\"\"5. This is a doc string - Multiplies the value of a and b\"\"\"\n",
    "    return a*b\n"
   ]
  },
  {
   "cell_type": "markdown",
   "id": "29967323",
   "metadata": {},
   "source": [
    "### Q2. What are variables in Python? How do you declare and assign values to variables?\n",
    "\n",
    "**Answer -** Variable is something which we can declare and store any data into it temporaily so that the system can process it. It can be numeric, text (string), image, etc. \n",
    "\n",
    "A variable name cannot be numeric, cannot have any sign. However it can have a _, -. letter, word, with number combination \n",
    "\n",
    "We can declare and assign values to a variable by the following:"
   ]
  },
  {
   "cell_type": "code",
   "execution_count": 8,
   "id": "23d76ae9",
   "metadata": {},
   "outputs": [
    {
     "name": "stdout",
     "output_type": "stream",
     "text": [
      "a = 2\n",
      "b = abc\n"
     ]
    }
   ],
   "source": [
    "a = 2\n",
    "b = \"abc\"\n",
    "print('a =', a)\n",
    "print('b =', b)"
   ]
  },
  {
   "cell_type": "markdown",
   "id": "6aaf1916",
   "metadata": {},
   "source": [
    "### Q3. How do you convert one data type to another in Python?\n",
    "\n",
    "**Answer -** Converting data type is called **Typecasting**. In python, we can convert a data type by \n",
    "* ***1. Implicit Conversion*** - In this, python compiler automatically converts a data type into another data type without user intervention \n",
    "* ***2. Explicit Conversion*** - In this, user defines the new data type to be converted into.\n",
    "\n",
    "Examples of both are given below"
   ]
  },
  {
   "cell_type": "code",
   "execution_count": 9,
   "id": "f7f486f3",
   "metadata": {},
   "outputs": [
    {
     "name": "stdout",
     "output_type": "stream",
     "text": [
      "10 is of data type <class 'int'>\n",
      "2.5 is of data type <class 'float'>\n",
      "12.5 is the sum of a and b and is of data type <class 'float'>\n"
     ]
    }
   ],
   "source": [
    "'''1. Implicit Conversion - Suppose we have an integer and a floating point number. The sum of these 2 numbers will be float'''\n",
    "\n",
    "a = 10\n",
    "b = 2.5\n",
    "print(\"{} is of data type {}\".format(a, type(a)))\n",
    "print(\"{} is of data type {}\".format(b, type(b)))\n",
    "\n",
    "c = a + b\n",
    "print(\"{} is the sum of a and b and is of data type {}\".format(c,type(c)))"
   ]
  },
  {
   "cell_type": "code",
   "execution_count": 11,
   "id": "837a8d98",
   "metadata": {},
   "outputs": [
    {
     "name": "stdout",
     "output_type": "stream",
     "text": [
      "[1, 2, 3]\n",
      "a is of data type  <class 'list'>\n",
      "(1, 2, 3)\n",
      "b is of data type  <class 'tuple'>\n"
     ]
    }
   ],
   "source": [
    "'''2. Explicit Conversion - suppose we have a list and want to convert it into a tuple'''\n",
    "a = [1,2,3]\n",
    "print(a)\n",
    "print(\"a is of data type \",type(a))\n",
    "b = tuple(a) #explicit conversion\n",
    "print(b)\n",
    "print(\"b is of data type \",type(b))\n"
   ]
  },
  {
   "cell_type": "markdown",
   "id": "3cc5c13d",
   "metadata": {},
   "source": [
    "### Q4. How do you write and execute a Python script from the command line?\n",
    "\n",
    "**Answer -** To write and execute a python script in the command line, we first need to ensure the python is installed. Then we need to open the command prompt, type python and press ‘Enter’. Suppose we want to write a python script for printing HELLO WORLD. For this, we need to type \n",
    "\n",
    "***print(Hello World!)***\n",
    "\n",
    "After this, we hit enter that gives us a result. This is how we write and execute a python script in the command line. \n",
    "\n"
   ]
  },
  {
   "cell_type": "markdown",
   "id": "0c251194",
   "metadata": {},
   "source": [
    "### Q5. Given a list my_list = [1, 2, 3, 4, 5], write the code to slice the list and obtain the sub-list [2, 3].\n",
    "\n",
    "**Answer -** In the list, index no of 2 and 3 is 1 and 2 respetively. We can obtain sub-list from main list by - \n"
   ]
  },
  {
   "cell_type": "code",
   "execution_count": 12,
   "id": "9f3acffa",
   "metadata": {},
   "outputs": [
    {
     "data": {
      "text/plain": [
       "[2, 3]"
      ]
     },
     "execution_count": 12,
     "metadata": {},
     "output_type": "execute_result"
    }
   ],
   "source": [
    "my_list = [1, 2, 3, 4, 5]\n",
    "my_list[1:3]"
   ]
  },
  {
   "cell_type": "markdown",
   "id": "2de1838f",
   "metadata": {},
   "source": [
    "### Q6. What is a complex number in mathematics, and how is it represented in Python?\n",
    "\n",
    "**Answer -** In Mathematics, Complex numbers are the numbers that are expressed in the form of a+ib where, a,b are real numbers and 'i' is an imaginary number. Consider a complex number e = 4 + 7j. In python, i is represented by j and a complex number can be expressed by:"
   ]
  },
  {
   "cell_type": "code",
   "execution_count": 13,
   "id": "f6a0159e",
   "metadata": {},
   "outputs": [
    {
     "name": "stdout",
     "output_type": "stream",
     "text": [
      "The data type of e is  <class 'complex'>\n",
      "The real number in complex number e is 4.0\n",
      "The imaginary number in complex number e is 7.0\n"
     ]
    }
   ],
   "source": [
    "e = 4 + 7j\n",
    "print(\"The data type of e is \",type(e))\n",
    "print(\"The real number in complex number e is\", e.real)\n",
    "print(\"The imaginary number in complex number e is\", e.imag)\n"
   ]
  },
  {
   "cell_type": "markdown",
   "id": "aecf5564",
   "metadata": {},
   "source": [
    "### Q7. What is the correct way to declare a variable named age and assign the value 25 to it?\n",
    "We can do this by:"
   ]
  },
  {
   "cell_type": "code",
   "execution_count": 14,
   "id": "484cbf29",
   "metadata": {},
   "outputs": [
    {
     "data": {
      "text/plain": [
       "25"
      ]
     },
     "execution_count": 14,
     "metadata": {},
     "output_type": "execute_result"
    }
   ],
   "source": [
    "age = 25\n",
    "age"
   ]
  },
  {
   "cell_type": "markdown",
   "id": "816e739e",
   "metadata": {},
   "source": [
    "### Q8. Declare a variable named price and assign the value 9.99 to it. What data type does this variable belong to?\n",
    "\n",
    "Given the data type is a floating point number, the variable will be float. This can be done by"
   ]
  },
  {
   "cell_type": "code",
   "execution_count": 15,
   "id": "7c9c616a",
   "metadata": {},
   "outputs": [
    {
     "data": {
      "text/plain": [
       "float"
      ]
     },
     "execution_count": 15,
     "metadata": {},
     "output_type": "execute_result"
    }
   ],
   "source": [
    "price = 9.99\n",
    "type(price)"
   ]
  },
  {
   "cell_type": "markdown",
   "id": "aff26757",
   "metadata": {},
   "source": [
    "### Q9. Create a variable named name and assign your full name to it as a string. How would you print the value of this variable?\n",
    "\n",
    "This can be done by :"
   ]
  },
  {
   "cell_type": "code",
   "execution_count": 16,
   "id": "5e2345ba",
   "metadata": {},
   "outputs": [
    {
     "name": "stdout",
     "output_type": "stream",
     "text": [
      "Subhajit Sarkar\n"
     ]
    }
   ],
   "source": [
    "name = \"Subhajit Sarkar\"\n",
    "print(name)"
   ]
  },
  {
   "cell_type": "markdown",
   "id": "f6da9898",
   "metadata": {},
   "source": [
    "### Q10. Given the string \"Hello, World!\", extract the substring \"World\".\n",
    "\n",
    "Here, the \"World\" starts from index number 7 and ends in 11. This can be done by "
   ]
  },
  {
   "cell_type": "code",
   "execution_count": 17,
   "id": "29c51cf2",
   "metadata": {},
   "outputs": [
    {
     "data": {
      "text/plain": [
       "'World'"
      ]
     },
     "execution_count": 17,
     "metadata": {},
     "output_type": "execute_result"
    }
   ],
   "source": [
    "s = \"Hello, World!\"\n",
    "s[7:12]"
   ]
  },
  {
   "cell_type": "markdown",
   "id": "f8c3b1cc",
   "metadata": {},
   "source": [
    "### Q11. Create a variable named \"is_student\" and assign it a boolean value indicating whether you are currently a student or not.\n",
    "\n",
    "**Answer -** This can be done by:"
   ]
  },
  {
   "cell_type": "code",
   "execution_count": 18,
   "id": "33516c1a",
   "metadata": {},
   "outputs": [
    {
     "data": {
      "text/plain": [
       "bool"
      ]
     },
     "execution_count": 18,
     "metadata": {},
     "output_type": "execute_result"
    }
   ],
   "source": [
    "is_student = True\n",
    "type(is_student)"
   ]
  }
 ],
 "metadata": {
  "kernelspec": {
   "display_name": "Python 3",
   "language": "python",
   "name": "python3"
  },
  "language_info": {
   "codemirror_mode": {
    "name": "ipython",
    "version": 3
   },
   "file_extension": ".py",
   "mimetype": "text/x-python",
   "name": "python",
   "nbconvert_exporter": "python",
   "pygments_lexer": "ipython3",
   "version": "3.8.8"
  }
 },
 "nbformat": 4,
 "nbformat_minor": 5
}
