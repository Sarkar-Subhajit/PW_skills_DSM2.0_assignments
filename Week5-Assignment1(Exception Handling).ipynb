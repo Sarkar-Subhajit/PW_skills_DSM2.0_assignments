{
 "cells": [
  {
   "cell_type": "markdown",
   "id": "ba8579a2",
   "metadata": {},
   "source": [
    "# Week 5 - Assignment1 (Exception Handling) Solutions\n",
    "\n",
    "### Q1. What is an Exception in python? Write the difference between Exceptions and Syntax errors. \n",
    "\n",
    "**Answer -**\n",
    "Error in Python can be of two types - Syntax errors and Exceptions. An **exception** is an event, which occurs during the execution of a program that disrupts the normal flow of the program's instructions. Exceptions are raised when some internal events occur which change the normal flow of the program. Exceptions are raised when the program is syntactically correct, but the code results in an error.\n",
    "\n",
    "A **syntax error** occurs when the structure of a program does not conform to the rules of the programming language. Syntax errors are usually detected by the compiler or interpreter when the program is being compiled or executed, and they prevent the program from running. Syntax errors are usually caused by mistakes in the source code, such as typos, omissions, or incorrect use of syntax.\n",
    "\n",
    "An **exception** is an abnormal event that occurs during the execution of a program. Exceptions are usually caused by runtime errors, such as dividing by zero or trying to access a file that does not exist. Exceptions are not syntax errors, but they can still prevent the program from running if they are not handled properly.\n",
    "\n",
    "To summarize, a syntax error is a mistake in the structure of the program that prevents it from running, while an exception is an abnormal event that occurs during the execution of the program and can be handled to allow the program to continue running."
   ]
  },
  {
   "cell_type": "markdown",
   "id": "ef846dee",
   "metadata": {},
   "source": [
    "### Q2. What happens when an exception is not handled? Explain with an example.\n",
    "\n",
    "**Answer -**\n",
    "Whenever there is an error in a program (not syntax errors), exceptions are raised. If these exceptions are not handled, it drives the program into a halt state. Exception handling in python is required to prevent the program from terminating abruptly.\n",
    "\n",
    "Consider the following example where we try to divide two numbers by defining a function and at the end of it, will print a statement. Now if we set a = 2 and b = 0, the function will return error. This error is ZeroDivisionError. This is an exception. Because of this error, the python compiler will stop and not execute the further statements`print(\"This is the end of my function\")`. \n",
    "\n",
    "To counter this, we use exception handling techniques by using try-except block."
   ]
  },
  {
   "cell_type": "code",
   "execution_count": 10,
   "id": "cb5a997b",
   "metadata": {},
   "outputs": [
    {
     "ename": "ZeroDivisionError",
     "evalue": "division by zero",
     "output_type": "error",
     "traceback": [
      "\u001b[1;31m---------------------------------------------------------------------------\u001b[0m",
      "\u001b[1;31mZeroDivisionError\u001b[0m                         Traceback (most recent call last)",
      "\u001b[1;32m<ipython-input-10-696c91e99ad6>\u001b[0m in \u001b[0;36m<module>\u001b[1;34m\u001b[0m\n\u001b[0;32m      4\u001b[0m \u001b[1;33m\u001b[0m\u001b[0m\n\u001b[0;32m      5\u001b[0m \u001b[1;33m\u001b[0m\u001b[0m\n\u001b[1;32m----> 6\u001b[1;33m \u001b[0mdiv\u001b[0m\u001b[1;33m(\u001b[0m\u001b[1;36m2\u001b[0m\u001b[1;33m,\u001b[0m\u001b[1;36m0\u001b[0m\u001b[1;33m)\u001b[0m\u001b[1;33m\u001b[0m\u001b[1;33m\u001b[0m\u001b[0m\n\u001b[0m",
      "\u001b[1;32m<ipython-input-10-696c91e99ad6>\u001b[0m in \u001b[0;36mdiv\u001b[1;34m(a, b)\u001b[0m\n\u001b[0;32m      1\u001b[0m \u001b[1;32mdef\u001b[0m \u001b[0mdiv\u001b[0m\u001b[1;33m(\u001b[0m\u001b[0ma\u001b[0m\u001b[1;33m,\u001b[0m\u001b[0mb\u001b[0m\u001b[1;33m)\u001b[0m\u001b[1;33m:\u001b[0m\u001b[1;33m\u001b[0m\u001b[1;33m\u001b[0m\u001b[0m\n\u001b[1;32m----> 2\u001b[1;33m     \u001b[0mprint\u001b[0m\u001b[1;33m(\u001b[0m\u001b[0ma\u001b[0m\u001b[1;33m/\u001b[0m\u001b[0mb\u001b[0m\u001b[1;33m)\u001b[0m\u001b[1;33m\u001b[0m\u001b[1;33m\u001b[0m\u001b[0m\n\u001b[0m\u001b[0;32m      3\u001b[0m     \u001b[0mprint\u001b[0m\u001b[1;33m(\u001b[0m\u001b[1;34m\"This is the end of my function\"\u001b[0m\u001b[1;33m)\u001b[0m\u001b[1;33m\u001b[0m\u001b[1;33m\u001b[0m\u001b[0m\n\u001b[0;32m      4\u001b[0m \u001b[1;33m\u001b[0m\u001b[0m\n\u001b[0;32m      5\u001b[0m \u001b[1;33m\u001b[0m\u001b[0m\n",
      "\u001b[1;31mZeroDivisionError\u001b[0m: division by zero"
     ]
    }
   ],
   "source": [
    "# Without Exception Handling\n",
    "\n",
    "def div(a,b):\n",
    "    print(a/b)\n",
    "    print(\"This is the end of my function\")\n",
    "\n",
    "\n",
    "div(2,0)"
   ]
  },
  {
   "cell_type": "code",
   "execution_count": 16,
   "id": "83a74353",
   "metadata": {},
   "outputs": [
    {
     "name": "stdout",
     "output_type": "stream",
     "text": [
      "The issue with the code is  division by zero\n",
      "This is the end of my function\n"
     ]
    }
   ],
   "source": [
    "# With Exception Handling\n",
    "\n",
    "def divide(a, b):\n",
    "    try :\n",
    "        print(a/b)\n",
    "    except Exception as e :\n",
    "        print(\"The issue with the code is \", e)\n",
    "    print(\"This is the end of my function\")\n",
    "\n",
    "divide(4,0)"
   ]
  },
  {
   "cell_type": "markdown",
   "id": "8b70393a",
   "metadata": {},
   "source": [
    "### Q3. Which Python statements are used to catch and handle exceptions? Explain with an example.\n",
    "\n",
    "**Answer -**\n",
    "To catch the exception, **try** statement is used whereas to handle exceptions **except** statement is used. Python executes code following the try statement as a “normal” part of the program. The code that follows the except statement is the program’s response to any exceptions in the preceding try clause.\n",
    "\n",
    "Consider the following example. We try to read a txt file(open file in 'r' mode) that does not exist in the directory and print a statement. Given the file does not exist, it raises an exception of FileNotFoundError. The statement \"this is my print\" is also not executed. \n",
    "\n",
    "To counter this, we need to catch the exception by keeping the suspecious/doubtful piece of code in try block. If any error occurs, to handle it, the error type and any other undoubtful piece of code in except block."
   ]
  },
  {
   "cell_type": "code",
   "execution_count": 19,
   "id": "fa4208c6",
   "metadata": {},
   "outputs": [
    {
     "ename": "FileNotFoundError",
     "evalue": "[Errno 2] No such file or directory: 'test.txt'",
     "output_type": "error",
     "traceback": [
      "\u001b[1;31m---------------------------------------------------------------------------\u001b[0m",
      "\u001b[1;31mFileNotFoundError\u001b[0m                         Traceback (most recent call last)",
      "\u001b[1;32m<ipython-input-19-9badfcd8b31c>\u001b[0m in \u001b[0;36m<module>\u001b[1;34m\u001b[0m\n\u001b[1;32m----> 1\u001b[1;33m \u001b[0mf\u001b[0m \u001b[1;33m=\u001b[0m \u001b[0mopen\u001b[0m\u001b[1;33m(\u001b[0m\u001b[1;34m\"test.txt\"\u001b[0m\u001b[1;33m,\u001b[0m \u001b[1;34m'r'\u001b[0m\u001b[1;33m)\u001b[0m\u001b[1;33m\u001b[0m\u001b[1;33m\u001b[0m\u001b[0m\n\u001b[0m\u001b[0;32m      2\u001b[0m \u001b[0mprint\u001b[0m\u001b[1;33m(\u001b[0m\u001b[1;34m\"this is my print\"\u001b[0m\u001b[1;33m)\u001b[0m\u001b[1;33m\u001b[0m\u001b[1;33m\u001b[0m\u001b[0m\n",
      "\u001b[1;31mFileNotFoundError\u001b[0m: [Errno 2] No such file or directory: 'test.txt'"
     ]
    }
   ],
   "source": [
    "# without exception handling\n",
    "f = open(\"test.txt\", 'r')\n",
    "print(\"this is my print\")"
   ]
  },
  {
   "cell_type": "code",
   "execution_count": 20,
   "id": "583eca08",
   "metadata": {},
   "outputs": [
    {
     "name": "stdout",
     "output_type": "stream",
     "text": [
      "this is the issue with my code [Errno 2] No such file or directory: 'test.txt'\n",
      "this is my print\n"
     ]
    }
   ],
   "source": [
    "# with exception handling\n",
    "try:                                # for catching the exception\n",
    "    f = open(\"test.txt\", 'r')\n",
    "except Exception as e :             # for handling the exception\n",
    "    print(\"this is the issue with my code\",e)\n",
    "    print(\"this is my print\")"
   ]
  },
  {
   "cell_type": "markdown",
   "id": "2ccc8244",
   "metadata": {},
   "source": [
    "### Q4. Explain with an example :\n",
    "\n",
    "##### (a) try and else\n",
    "\n",
    "**Answer -**\n",
    "In python, the **try** block lets you test a block of code for errors. The **except** block lets you handle the error. The **else** block lets you execute code when there is no error. The code enters the else block only if the try clause does not raise an exception.\n",
    "\n",
    "Consider the following example where we define a function that takes two numbers to divide x by y. We code by using exception handling techniques by using try except else block. The try block tries to divide x and y and if y = 0, it gives an error. In case of an exception, it will be mentioned in except block. If no error occurs, the code in else block will be executed. "
   ]
  },
  {
   "cell_type": "code",
   "execution_count": 23,
   "id": "7fdc76b8",
   "metadata": {},
   "outputs": [],
   "source": [
    "# Creating function with try, except and else block\n",
    "\n",
    "def divide1(x, y):\n",
    "    try:\n",
    "        result = x / y\n",
    "    except Exception as e :\n",
    "        print(\"The issue with the code is \", e)\n",
    "    else:\n",
    "        print(\"Yeah ! Your answer is :\", result)"
   ]
  },
  {
   "cell_type": "code",
   "execution_count": 24,
   "id": "fbc56439",
   "metadata": {},
   "outputs": [
    {
     "name": "stdout",
     "output_type": "stream",
     "text": [
      "Yeah ! Your answer is : 2.0\n"
     ]
    }
   ],
   "source": [
    "# Without Exception - try block and else block will be executed. \n",
    "\n",
    "divide1(4, 2)"
   ]
  },
  {
   "cell_type": "code",
   "execution_count": 25,
   "id": "3fd18119",
   "metadata": {},
   "outputs": [
    {
     "name": "stdout",
     "output_type": "stream",
     "text": [
      "The issue with the code is  division by zero\n"
     ]
    }
   ],
   "source": [
    "# With Exception - except block will be executed.\n",
    "\n",
    "divide1(3, 0)"
   ]
  },
  {
   "cell_type": "markdown",
   "id": "7bcc6f9c",
   "metadata": {},
   "source": [
    "##### (b) finally\n",
    "\n",
    "**Answer -**\n",
    "In python exception handling, apart from try, except and else blocks, there is another block **finally** which is always executed after try and except blocks. The finally block always executes after normal termination of try block or after try block terminates due to some exception. Even if you return in the except block still the finally block will execute. \n",
    "\n",
    "For example, consider the above example of divide1. Here we want the program to print the statement \"This program is coded under Exception Handling Techniques\". For this we will use **finally** block under which we will print the statement.  "
   ]
  },
  {
   "cell_type": "code",
   "execution_count": null,
   "id": "19a497b5",
   "metadata": {},
   "outputs": [],
   "source": [
    "def divide(x, y):\n",
    "    try:\n",
    "        # Floor Division : Gives only Fractional\n",
    "        # Part as Answer\n",
    "        result = x // y\n",
    "    except ZeroDivisionError:\n",
    "        print(\"Sorry ! You are dividing by zero \")\n",
    "    else:\n",
    "        print(\"Yeah ! Your answer is :\", result)\n",
    "    finally: \n",
    "        # this block is always executed  \n",
    "        # regardless of exception generation. \n",
    "        print('This is always executed') "
   ]
  },
  {
   "cell_type": "code",
   "execution_count": 26,
   "id": "129c8c80",
   "metadata": {},
   "outputs": [],
   "source": [
    "# Creating function with try, except and else block\n",
    "\n",
    "def divide1(x, y):\n",
    "    try:\n",
    "        result = x / y\n",
    "    except Exception as e :\n",
    "        print(\"The issue with the code is \", e)\n",
    "    else:\n",
    "        print(\"Yeah ! Your answer is :\", result)\n",
    "    finally :\n",
    "        print('This program is coded under Exception Handling Techniques')"
   ]
  },
  {
   "cell_type": "code",
   "execution_count": 27,
   "id": "13b682f5",
   "metadata": {},
   "outputs": [
    {
     "name": "stdout",
     "output_type": "stream",
     "text": [
      "Yeah ! Your answer is : 2.0\n",
      "This program is coded under Exception Handling Techniques\n"
     ]
    }
   ],
   "source": [
    "# Without Exception - try block and else block will be executed. \n",
    "\n",
    "divide1(4, 2)"
   ]
  },
  {
   "cell_type": "code",
   "execution_count": 28,
   "id": "31ccf817",
   "metadata": {},
   "outputs": [
    {
     "name": "stdout",
     "output_type": "stream",
     "text": [
      "The issue with the code is  division by zero\n",
      "This program is coded under Exception Handling Techniques\n"
     ]
    }
   ],
   "source": [
    "# With Exception - except block will be executed.\n",
    "\n",
    "divide1(3, 0)"
   ]
  },
  {
   "cell_type": "markdown",
   "id": "46e58245",
   "metadata": {},
   "source": [
    "##### (c) raise\n",
    "\n",
    "**Answer -**\n",
    "The **raise** keyword raises an error and stops the control flow of the program. It is used to bring up the current exception in an exception handler so that it can be handled further up the call stack. \n",
    "The syntax for raise is ***raise name_of_exception_class***\n",
    "\n",
    "Consider the following example where we check if an integer is even or odd. if the integer is odd an exception is raised. 'x'  is a variable to which we assigned a number 5, as x is odd, then if loop checks if it’s an odd integer, if it’s an odd integer then an error is raised. "
   ]
  },
  {
   "cell_type": "code",
   "execution_count": 30,
   "id": "b09c23af",
   "metadata": {},
   "outputs": [
    {
     "ename": "Exception",
     "evalue": "The number should be an even integer",
     "output_type": "error",
     "traceback": [
      "\u001b[1;31m---------------------------------------------------------------------------\u001b[0m",
      "\u001b[1;31mException\u001b[0m                                 Traceback (most recent call last)",
      "\u001b[1;32m<ipython-input-30-07e57c3b4ddb>\u001b[0m in \u001b[0;36m<module>\u001b[1;34m\u001b[0m\n\u001b[0;32m      2\u001b[0m \u001b[1;33m\u001b[0m\u001b[0m\n\u001b[0;32m      3\u001b[0m \u001b[1;32mif\u001b[0m \u001b[0mx\u001b[0m \u001b[1;33m%\u001b[0m \u001b[1;36m2\u001b[0m \u001b[1;33m!=\u001b[0m \u001b[1;36m0\u001b[0m\u001b[1;33m:\u001b[0m\u001b[1;33m\u001b[0m\u001b[1;33m\u001b[0m\u001b[0m\n\u001b[1;32m----> 4\u001b[1;33m     \u001b[1;32mraise\u001b[0m \u001b[0mException\u001b[0m\u001b[1;33m(\u001b[0m\u001b[1;34m\"The number should be an even integer\"\u001b[0m\u001b[1;33m)\u001b[0m\u001b[1;33m\u001b[0m\u001b[1;33m\u001b[0m\u001b[0m\n\u001b[0m",
      "\u001b[1;31mException\u001b[0m: The number should be an even integer"
     ]
    }
   ],
   "source": [
    "x = 5\n",
    "  \n",
    "if x % 2 != 0:\n",
    "    raise Exception(\"The number should be an even integer\")"
   ]
  },
  {
   "cell_type": "markdown",
   "id": "66750dcb",
   "metadata": {},
   "source": [
    "### Q5. What are Custom Exceptions in python? Why do we need Custom Exceptions? Explain with an example.\n",
    "\n",
    "**Answer -**\n",
    "In Python, a custom exception is a user-defined exception that is created by the programmer to handle specific error scenarios in a program. A custom exception is made by subclassing the built-in Exception class or any of its subclasses accordng to the problem. When a custom exception is raised, it behaves like any other exception in Python, triggering an error message and terminating the program if it is not handled properly.\n",
    "\n",
    "Custom exceptions provides a user the flexibility to add attributes and methods that otherwise, are not part of a standard python exception. These can store additional information or provide utility methods that can be used to handle or present the exception to a user. Thus, a custom exception, tailored to a specific use case can raise and catch specific circumstances that can make a program much more readable and robust, and reduce the amount of code one write later to try and figure out what exactly went wrong.\n",
    "\n",
    "For example, we define a program that takes input height of a person and prints it. If one inputs the height in negative, the program will print the negative height. But in real life, height cannot be negative. Hence, here we make a custom exception, that will give us an error message to input positive height. The code to create a custom exception of this problem is given in Q6 solutions. "
   ]
  },
  {
   "cell_type": "code",
   "execution_count": 32,
   "id": "3e0195d0",
   "metadata": {},
   "outputs": [
    {
     "name": "stdout",
     "output_type": "stream",
     "text": [
      "The height of the person is -178 cms\n"
     ]
    }
   ],
   "source": [
    "def height(height):\n",
    "    print (\"The height of the person is {} cms\".format(height))\n",
    "\n",
    "height(-178)"
   ]
  },
  {
   "cell_type": "markdown",
   "id": "115aeee9",
   "metadata": {},
   "source": [
    "### Q6. Create a custom exception class. Use this class to handle an exception.\n",
    "\n",
    "**Answer -**\n",
    "The process of creating a custom exception is by creating a class and then importing the properties of Exception class into it by using Inheritance method. By this, all the characteristics/ variables/ functions are inherited into the custom exception class. One can then use this class, while defining a function, to program the conditions for solving the problem in an user-defined manner. Finally, the programmer can set this function under try block and the class under except block.\n",
    "\n",
    "Consider the above example of inputing height of an individual. We create a custom exception class `validateheight` by inheriting Exception class to it that has an constructor variable message. We then define a function `validate_height` that takes height as input. As per our situation, if height is negative, it should give an error message to rectify the height into positive number. Thus we code the situtation that when height is less than 0, the function will raise (used to stop the flow of program and bring up the current exception) the custom exception class validateage and print the message ***\"Height should not be negative\"***. Else it will print the height of the person if no exception(height in negative) is raised. At last, we take user defined height as input and run it through the function validate_height, both kept under the ***try block***. We also keep the custom exception class and to print the exception under ***except block***. "
   ]
  },
  {
   "cell_type": "code",
   "execution_count": 33,
   "id": "d27f594f",
   "metadata": {},
   "outputs": [],
   "source": [
    "class validateheight(Exception):\n",
    "    \n",
    "    def __init__(self, message):\n",
    "        self.message = message"
   ]
  },
  {
   "cell_type": "code",
   "execution_count": 34,
   "id": "ceb44745",
   "metadata": {},
   "outputs": [],
   "source": [
    "def validate_height(height):\n",
    "    if height < 0:\n",
    "        raise validateheight(\"Height should not be negative\")\n",
    "    else:\n",
    "        print(\"The height of the person is {} cms\".format(height))"
   ]
  },
  {
   "cell_type": "code",
   "execution_count": 36,
   "id": "07c6177a",
   "metadata": {},
   "outputs": [
    {
     "name": "stdout",
     "output_type": "stream",
     "text": [
      "Enter the height 158\n",
      "The height of the person is 158 cms\n"
     ]
    }
   ],
   "source": [
    "# With positive height\n",
    "try :\n",
    "    height = int(input(\"Enter the height \"))\n",
    "    validate_height(height)\n",
    "except validateheight as e :\n",
    "    print(e)"
   ]
  },
  {
   "cell_type": "code",
   "execution_count": 37,
   "id": "0e4f5c42",
   "metadata": {},
   "outputs": [
    {
     "name": "stdout",
     "output_type": "stream",
     "text": [
      "Enter the height -160\n",
      "Height should not be negative\n"
     ]
    }
   ],
   "source": [
    "# With negative height\n",
    "try :\n",
    "    height = int(input(\"Enter the height \"))\n",
    "    validate_height(height)\n",
    "except validateheight as e :\n",
    "    print(e)"
   ]
  }
 ],
 "metadata": {
  "kernelspec": {
   "display_name": "Python 3",
   "language": "python",
   "name": "python3"
  },
  "language_info": {
   "codemirror_mode": {
    "name": "ipython",
    "version": 3
   },
   "file_extension": ".py",
   "mimetype": "text/x-python",
   "name": "python",
   "nbconvert_exporter": "python",
   "pygments_lexer": "ipython3",
   "version": "3.8.8"
  }
 },
 "nbformat": 4,
 "nbformat_minor": 5
}
