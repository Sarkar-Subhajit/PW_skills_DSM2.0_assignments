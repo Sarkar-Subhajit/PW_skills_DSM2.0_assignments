{
 "cells": [
  {
   "cell_type": "markdown",
   "id": "ee1b6bf1",
   "metadata": {},
   "source": [
    "# Week 5 - Assignment4 (Multiprocessing Assignment) Solutions\n",
    "\n",
    "\n",
    "## Q1. What is multiprocessing in python? Why is it useful?\n",
    "\n",
    "\n",
    "**Answer -**\n",
    "\n",
    "**Multiprocessing** in Python refers to the ability to execute multiple processes simultaneously on multiple processors/cores of a computer, as opposed to executing them in a sequential manner. Multiprocessing allows a user to take advantage of the multi-core processors in modern day computers to perform CPU-intensive tasks more efficiently, by splitting them into smaller sub-tasks that can be executed simultaneously on different processors. This can significantly reduce the time taken to complete a task and improve the overall performance of the program.\n",
    "\n",
    "***Multiprocessing module is useful*** as it provides a way to create and manage multiple processes. It offers several classes and functions to create and control processes, to communicate and share data between them, and to handle exceptions and errors that may occur during their execution. Multiprocessing is useful in various scenarios, such as:\n",
    "* CPU-intensive tasks: Multiprocessing can speed up the execution of tasks that require a lot of CPU time, such as image processing, machine learning, and scientific computing.\n",
    "* Parallel programming: Multiprocessing can be used to implement parallel algorithms, where multiple processes work together to solve a problem.\n",
    "* Scalability: Multiprocessing can help to scale up the performance of a program as the size of the data or the complexity of the problem increases.\n",
    "* Fault-tolerance: Multiprocessing can improve the reliability of a program by isolating the processes from each other and preventing errors in one process from affecting the others.\n",
    "\n",
    "For example, consider the following."
   ]
  },
  {
   "cell_type": "code",
   "execution_count": null,
   "id": "6bf2c15f",
   "metadata": {},
   "outputs": [],
   "source": [
    "import multiprocessing\n",
    "\n",
    "def sq(n):\n",
    "    return n**2\n",
    "\n",
    "if __name__ == '__main__':\n",
    "    pool = multiprocessing.Pool(processes=5)\n",
    "\n",
    "    results = pool.map(sq, range(10))\n",
    "    print(results)\n",
    "\n",
    "    pool.close()\n",
    "\n",
    "    pool.join()\n",
    "\n",
    "    print('All the squares are calculated with multiprocessing')\n",
    "    \n"
   ]
  },
  {
   "cell_type": "markdown",
   "id": "0fb7c915",
   "metadata": {},
   "source": [
    "## Q2. What are the differences between multiprocessing and multithreading?\n",
    "\n",
    "**Answer -**\n",
    "\n",
    "|Feature|Multiprocessing|Multithreading|\n",
    "|-|-|-|\n",
    "|**Execution model**|Multiple processes Seperate processor core used for each process|Multiple threads within a single process|\n",
    "|**Resource usage**|Higher resource usage, slower startup times|Lower resource usage, faster startup times|\n",
    "|**Communication**|IPC mechanisms (pipes, queues, shared memory)|Shared memory, synchronization primitives|\n",
    "|**Debugging**|More complex (multiple memory spaces)|Easier (shared memory, single memory space)|\n",
    "|**Best for**|CPU-bound tasks|I/O-bound tasks|"
   ]
  },
  {
   "cell_type": "markdown",
   "id": "faad2f16",
   "metadata": {},
   "source": [
    "## Q3. Write a python code to create a process using the multiprocessing module.\n",
    "\n",
    "**Answer -**\n",
    "\n",
    "Consider the following program to calculate cubes."
   ]
  },
  {
   "cell_type": "code",
   "execution_count": null,
   "id": "faa54cac",
   "metadata": {},
   "outputs": [],
   "source": [
    "import multiprocessing\n",
    "\n",
    "def cube(index, value):\n",
    "    value[index] = value[index]**3\n",
    "\n",
    "if __name__ == '__main__':\n",
    "    # Creating an example array list to get cubes\n",
    "    arr = multiprocessing.Array('i',[2,3,4,5,6,7,8,9,10,11,12,13,14,15,16])\n",
    "    \n",
    "    # Creating processes list for appeding the processes\n",
    "    process = []\n",
    "    for i in range(15):\n",
    "        m = multiprocessing.Process(target=cube,args=(i,arr))\n",
    "        process.append(m)\n",
    "        m.start()\n",
    "        \n",
    "    # Wait for processes to finish\n",
    "    for j in process:\n",
    "        j.join()\n",
    "    print(list(arr))"
   ]
  },
  {
   "cell_type": "markdown",
   "id": "f1be4c3b",
   "metadata": {},
   "source": [
    "## Q4. What is a multiprocessing pool in python? Why is it used?\n",
    "\n",
    "**Answer -**\n",
    "\n",
    "In Python, a **multiprocessing pool** is a class that provides a way to distribute tasks across multiple CPU cores. The idea is to create a pool of worker processes that can execute tasks in parallel, thereby reducing the time it takes to complete a large number of tasks. Let us check how it operates:\n",
    "\n",
    "A Pool object with a specified number of worker processes is created. **->** Some tasks are submitted to this pool using the apply(), apply_async(), map(), or map_async() methods. **->** The tasks gets distributed among the worker processes that runs them in parallel. **->** The results of each task are collected and returned to the main process.\n",
    "\n",
    "The advantage of using a multiprocessing pool is that it allows a user to utilise multiple CPU cores to perform computations in parallel. This can lead to significant speedups for CPU-bound tasks, such as numerical computations, image processing, or machine learning. The Pool class also provides various methods for controlling the number of worker processes, waiting for tasks to complete, and handling errors."
   ]
  },
  {
   "cell_type": "markdown",
   "id": "85ac7c2c",
   "metadata": {},
   "source": [
    "## Q5. How can we create a pool of worker processes in python using the multiprocessing module?\n",
    "\n",
    "**Answer -**\n",
    "\n",
    "We can create a pool by importing pool module from multiprocessing library. Consider the following example."
   ]
  },
  {
   "cell_type": "code",
   "execution_count": null,
   "id": "111b4b8b",
   "metadata": {},
   "outputs": [],
   "source": [
    "from multiprocessing import Pool\n",
    "\n",
    "\n",
    "def f(x):\n",
    "    return x*x\n",
    "\n",
    "if __name__ == '__main__':\n",
    "    with Pool(processes=4) as pool:\n",
    "        #gave a list with square value from 1 to 10 \n",
    "        print(pool.map(f, range(10)))\n",
    "        \n",
    "        # unordered result of above list\n",
    "        for i in pool.imap_unordered(f, range(10)):\n",
    "            print(i)\n",
    "\n",
    "        # evaluate \"f(20)\" asynchronously\n",
    "        res = pool.apply_async(f, (20,))      \n",
    "        print(res.get(timeout=1))            \n",
    "\n",
    "    print(\"Now pool is no longer available\")"
   ]
  },
  {
   "cell_type": "markdown",
   "id": "b57db664",
   "metadata": {},
   "source": [
    "## Q6. Write a python program to create 4 processes, each process should print a different number using the multiprocessing module in python.\n",
    "\n",
    "**Answer -**\n",
    "\n",
    "Consider the following program that generates random numbers."
   ]
  },
  {
   "cell_type": "code",
   "execution_count": null,
   "id": "8dd8c378",
   "metadata": {},
   "outputs": [],
   "source": [
    "import multiprocessing\n",
    "import random\n",
    "\n",
    "def generate_random_number(num):\n",
    "    \"\"\"\n",
    "    This function generates random numbers between 1 to 100\n",
    "    \"\"\"\n",
    "    random_number = random.randint(1, 100)\n",
    "    print(f\"Process number {num}, random number generated : {random_number}\")\n",
    "\n",
    "if __name__ == '__main__':\n",
    "    # Creating a processess list\n",
    "    processes = []\n",
    "    for i in range(4):\n",
    "        p = multiprocessing.Process(target=generate_random_number, args=(i,))\n",
    "        processes.append(p)\n",
    "        p.start()\n",
    "    \n",
    "    # Waiting for processess to complete\n",
    "    for p in processes:\n",
    "        p.join()"
   ]
  }
 ],
 "metadata": {
  "kernelspec": {
   "display_name": "Python 3",
   "language": "python",
   "name": "python3"
  },
  "language_info": {
   "codemirror_mode": {
    "name": "ipython",
    "version": 3
   },
   "file_extension": ".py",
   "mimetype": "text/x-python",
   "name": "python",
   "nbconvert_exporter": "python",
   "pygments_lexer": "ipython3",
   "version": "3.8.8"
  }
 },
 "nbformat": 4,
 "nbformat_minor": 5
}
