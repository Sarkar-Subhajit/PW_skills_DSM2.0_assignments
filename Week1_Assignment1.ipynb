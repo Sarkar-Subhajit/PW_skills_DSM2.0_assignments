{
 "cells": [
  {
   "cell_type": "markdown",
   "id": "b2ecf286",
   "metadata": {},
   "source": [
    "## Week 1 - Assignment 1 Solutions\n",
    "\n",
    "**Q1. Create one variable containing following type of data:**\n",
    "- (i) string\n",
    "- (ii) list\n",
    "- (iii) float\n",
    "- (iv) tuple\n",
    "\n",
    "**Answer** is given below"
   ]
  },
  {
   "cell_type": "code",
   "execution_count": 1,
   "id": "dcec59c5",
   "metadata": {},
   "outputs": [
    {
     "name": "stdout",
     "output_type": "stream",
     "text": [
      "<class 'str'>\n"
     ]
    }
   ],
   "source": [
    "# Q1 (i)\n",
    "s = \"subhajit sarkar\"\n",
    "print(type(s))"
   ]
  },
  {
   "cell_type": "code",
   "execution_count": 2,
   "id": "b17162b1",
   "metadata": {},
   "outputs": [
    {
     "name": "stdout",
     "output_type": "stream",
     "text": [
      "<class 'list'>\n"
     ]
    }
   ],
   "source": [
    "# Q1 (ii)\n",
    "l = [1,2,3,\"subhajit\",\"sarkar\", True, 4+7j, [4,5,6],(7,8,9)]\n",
    "print(type(l))"
   ]
  },
  {
   "cell_type": "code",
   "execution_count": 3,
   "id": "04ac1046",
   "metadata": {},
   "outputs": [
    {
     "name": "stdout",
     "output_type": "stream",
     "text": [
      "<class 'float'>\n"
     ]
    }
   ],
   "source": [
    "# Q1 (iii)\n",
    "f = 36.75\n",
    "print(type(f))"
   ]
  },
  {
   "cell_type": "code",
   "execution_count": 4,
   "id": "03f20c90",
   "metadata": {},
   "outputs": [
    {
     "name": "stdout",
     "output_type": "stream",
     "text": [
      "<class 'tuple'>\n"
     ]
    }
   ],
   "source": [
    "# Q4 (iii)\n",
    "t = (1,2,3,4,5)\n",
    "print(type(t))"
   ]
  },
  {
   "cell_type": "markdown",
   "id": "8580b62e",
   "metadata": {},
   "source": [
    "**Q2. Given are some following variables containing data:**\n",
    "- (i) var1 = ‘ ‘\n",
    "- (ii) var2 = ‘[ DS , ML , Python]’\n",
    "- (iii) var3 = [ ‘DS’ , ’ML’ , ‘Python’ ]\n",
    "- (iv) var4 = 1.\n",
    "\n",
    "What will be the data type of the above given variable.\n",
    "\n",
    "**Answer** - var1 and var2 will be string; var3 will be list; var4 will be integer. "
   ]
  },
  {
   "cell_type": "code",
   "execution_count": 6,
   "id": "7d32257e",
   "metadata": {},
   "outputs": [
    {
     "name": "stdout",
     "output_type": "stream",
     "text": [
      "<class 'str'>\n",
      "<class 'str'>\n",
      "<class 'list'>\n",
      "<class 'int'>\n"
     ]
    }
   ],
   "source": [
    "var1 = ' '\n",
    "print(type(var1))\n",
    "var2 = '[ DS , ML , Python]'\n",
    "print(type(var2))\n",
    "var3 = [ 'DS' , 'ML' , 'Python' ]\n",
    "print(type(var3))\n",
    "var4 = 1\n",
    "print(type(var4))"
   ]
  },
  {
   "cell_type": "markdown",
   "id": "28b4423f",
   "metadata": {},
   "source": [
    "**Q3. Explain the use of the following operators using an example:**\n",
    "- (i) /\n",
    "- (ii) %\n",
    "- (iii) //\n",
    "- (iv) **\n",
    "\n",
    "**Answer**\n",
    "- (i) / is arithmetic operator for division that divided 1st number by 2nd number.\n",
    "- (ii) % is the arithmetic operator for modulus that gives the remainder after 1st number is divided by 2nd number without quotient going in decimals. (quotient remaining as whole number)\n",
    "- (iii) // is the arithmetic operator for floor division that gives the quotient after 1st number is divided by 2nd number without going in decimals. (quotient remaining as whole number)\n",
    "- (iv) ** is the arithmetic operator for power where 1st number has the power 2nd number.\n",
    "\n",
    "Examples are given below"
   ]
  },
  {
   "cell_type": "code",
   "execution_count": 16,
   "id": "0dc604a5",
   "metadata": {},
   "outputs": [
    {
     "name": "stdout",
     "output_type": "stream",
     "text": [
      "3.0\n",
      "1\n",
      "4\n",
      "8\n"
     ]
    }
   ],
   "source": [
    "#(i) 6 divided by 2 is 3\n",
    "print(6/2)\n",
    "\n",
    "#(ii) 5 divided by 2 with quotient reamining whole number gives 1 as remainder/modulus\n",
    "print(5%2)\n",
    "\n",
    "#(iii)9 divided by 2 with quotient reamining whole number gives 4 as quotient\n",
    "print(9//2)\n",
    "\n",
    "#(iv) 2 to the power 3 gives 8\n",
    "print(2**3)"
   ]
  },
  {
   "cell_type": "markdown",
   "id": "0048e555",
   "metadata": {},
   "source": [
    "**Q4. Create a list of length 10 of your choice containing multiple types of data. Using for loop print the\n",
    "element and its data type.**\n",
    "\n",
    "**Answer** is given below"
   ]
  },
  {
   "cell_type": "code",
   "execution_count": 18,
   "id": "ea280231",
   "metadata": {},
   "outputs": [
    {
     "data": {
      "text/plain": [
       "10"
      ]
     },
     "execution_count": 18,
     "metadata": {},
     "output_type": "execute_result"
    }
   ],
   "source": [
    "# Consider the list having multiple data types, \n",
    "l = [1, 2, 3, 4.5, \"subhajit\", \"sarkar\", True, 6+7j, [4,5,6], (7,8,9)]\n",
    "\n",
    "#Checking the lenght of the list\n",
    "len(l) "
   ]
  },
  {
   "cell_type": "code",
   "execution_count": 19,
   "id": "e5884f0d",
   "metadata": {},
   "outputs": [
    {
     "name": "stdout",
     "output_type": "stream",
     "text": [
      "1  is of data type  <class 'int'>\n",
      "2  is of data type  <class 'int'>\n",
      "3  is of data type  <class 'int'>\n",
      "4.5  is of data type  <class 'float'>\n",
      "subhajit  is of data type  <class 'str'>\n",
      "sarkar  is of data type  <class 'str'>\n",
      "True  is of data type  <class 'bool'>\n",
      "(6+7j)  is of data type  <class 'complex'>\n",
      "[4, 5, 6]  is of data type  <class 'list'>\n",
      "(7, 8, 9)  is of data type  <class 'tuple'>\n"
     ]
    }
   ],
   "source": [
    "# To find the data types of each item in list using for loop, we perform the following\n",
    "\n",
    "for i in l :\n",
    "    print(i,' is of data type ', type(i) )"
   ]
  },
  {
   "cell_type": "markdown",
   "id": "85e516f7",
   "metadata": {},
   "source": [
    "**Q5. Using a while loop, verify if the number A is purely divisible by number B and if so then how many\n",
    "times it can be divisible.**\n",
    "\n",
    "**Answer** - \n",
    "Here, purely divisible means there will be no reaminder. Hence a%b == 0\n",
    "\n",
    "No of times it can be divided means the quotient a//b"
   ]
  },
  {
   "cell_type": "code",
   "execution_count": 4,
   "id": "63dca13b",
   "metadata": {},
   "outputs": [
    {
     "name": "stdout",
     "output_type": "stream",
     "text": [
      "Enter value of A to be divided 8\n",
      "Enter value of B to be divided by 2\n",
      "8 is purely divisible by 2 and is divisible 4 times\n"
     ]
    }
   ],
   "source": [
    "a = int(input('Enter value of A to be divided '))\n",
    "b = int(input('Enter value of B to be divided by '))\n",
    "\n",
    "while a % b == 0:\n",
    "    print(a, \"is purely divisible by\", b, \"and is divisible\", a//b, \"times\")\n",
    "    break\n",
    "else :\n",
    "    print(a, \"cannot be purely divided by\", b)"
   ]
  },
  {
   "cell_type": "markdown",
   "id": "c67eb72e",
   "metadata": {},
   "source": [
    "**Q6. Create a list containing 25 int type data. Using for loop and if-else condition print if the element is\n",
    "divisible by 3 or not.**\n",
    "\n",
    "**Answer**"
   ]
  },
  {
   "cell_type": "code",
   "execution_count": 7,
   "id": "e25d6219",
   "metadata": {},
   "outputs": [
    {
     "name": "stdout",
     "output_type": "stream",
     "text": [
      "12 is divisible by 3\n",
      "50 is not divisible by 3\n",
      "35 is not divisible by 3\n",
      "76 is not divisible by 3\n",
      "64 is not divisible by 3\n",
      "8 is not divisible by 3\n",
      "22 is not divisible by 3\n",
      "54 is divisible by 3\n",
      "19 is not divisible by 3\n",
      "94 is not divisible by 3\n",
      "89 is not divisible by 3\n",
      "3 is divisible by 3\n",
      "59 is not divisible by 3\n",
      "47 is not divisible by 3\n",
      "38 is not divisible by 3\n",
      "100 is not divisible by 3\n",
      "55 is not divisible by 3\n",
      "6 is divisible by 3\n",
      "40 is not divisible by 3\n",
      "15 is divisible by 3\n",
      "81 is divisible by 3\n",
      "53 is not divisible by 3\n",
      "5 is not divisible by 3\n",
      "13 is not divisible by 3\n",
      "99 is divisible by 3\n"
     ]
    }
   ],
   "source": [
    "l = [12,50,35,76,64,8,22,54,19,94,89,3,59,47,38,100,55,6,40,15,81,53,5,13,99]\n",
    "\n",
    "for i in l:\n",
    "    if i % 3 == 0:\n",
    "        print(i,\"is divisible by 3\")\n",
    "    else:\n",
    "        print(i, \"is not divisible by 3\")"
   ]
  },
  {
   "cell_type": "markdown",
   "id": "96480566",
   "metadata": {},
   "source": [
    "**Q7. What do you understand about mutable and immutable data types? Give examples for both showing\n",
    "this property.**\n",
    "\n",
    "**Answer** - \n",
    "\n",
    "**Mutable Data type** are the data types that allows to change/replace a particular item at partical index. Mutable data types are:\n",
    " - 1. List\n",
    " - 2. Dictionary\n",
    " - 3. Sets\n",
    "\n",
    "**Immutable Data types** are the data types that does not allow to change/replace a particular item at partical index. Immutable data types are:\n",
    " - 1. Numbers - Integer, Float, Complex\n",
    " - 2. Strings\n",
    " - 3. Tuples\n",
    " \n",
    "We can demonstrate this property by using a string (immutable data type) and a list (mutable data type)"
   ]
  },
  {
   "cell_type": "code",
   "execution_count": 8,
   "id": "10b45bdd",
   "metadata": {},
   "outputs": [],
   "source": [
    "# Consider a list \n",
    "l = [1,2,3,\"subhajit\",\"sarkar\", True, 4+7j, [4,5,6],(7,8,9)]"
   ]
  },
  {
   "cell_type": "code",
   "execution_count": 11,
   "id": "afd2f560",
   "metadata": {},
   "outputs": [
    {
     "name": "stdout",
     "output_type": "stream",
     "text": [
      "[1, 2, 3, 'subh', 'sarkar', True, (4+7j), [4, 5, 6], (7, 8, 9)]\n"
     ]
    }
   ],
   "source": [
    "#If we want to change \"subhajit\" as \"subh\", we perform\n",
    "l[3] = 'subh'\n",
    "\n",
    "# Upon rechecking the list, we can see the change has taken place. \n",
    "print(l)\n",
    "\n",
    "# This is mutability."
   ]
  },
  {
   "cell_type": "code",
   "execution_count": 12,
   "id": "daad97e7",
   "metadata": {},
   "outputs": [],
   "source": [
    "# Next consider a string \n",
    "s = \"subhajit\""
   ]
  },
  {
   "cell_type": "code",
   "execution_count": 14,
   "id": "325c4902",
   "metadata": {},
   "outputs": [
    {
     "ename": "TypeError",
     "evalue": "'str' object does not support item assignment",
     "output_type": "error",
     "traceback": [
      "\u001b[1;31m---------------------------------------------------------------------------\u001b[0m",
      "\u001b[1;31mTypeError\u001b[0m                                 Traceback (most recent call last)",
      "\u001b[1;32m<ipython-input-14-a3a6f587a488>\u001b[0m in \u001b[0;36m<module>\u001b[1;34m\u001b[0m\n\u001b[0;32m      1\u001b[0m \u001b[1;31m# If we want to replace 'a' with 'o', we perform\u001b[0m\u001b[1;33m\u001b[0m\u001b[1;33m\u001b[0m\u001b[1;33m\u001b[0m\u001b[0m\n\u001b[1;32m----> 2\u001b[1;33m \u001b[0ms\u001b[0m\u001b[1;33m[\u001b[0m\u001b[1;36m4\u001b[0m\u001b[1;33m]\u001b[0m \u001b[1;33m=\u001b[0m \u001b[1;34m'o'\u001b[0m\u001b[1;33m\u001b[0m\u001b[1;33m\u001b[0m\u001b[0m\n\u001b[0m\u001b[0;32m      3\u001b[0m \u001b[1;33m\u001b[0m\u001b[0m\n\u001b[0;32m      4\u001b[0m \u001b[1;31m# This gives an error as string is not a mutable data type. This is immutability\u001b[0m\u001b[1;33m\u001b[0m\u001b[1;33m\u001b[0m\u001b[1;33m\u001b[0m\u001b[0m\n",
      "\u001b[1;31mTypeError\u001b[0m: 'str' object does not support item assignment"
     ]
    }
   ],
   "source": [
    "# If we want to replace 'a' with 'o', we perform\n",
    "s[4] = 'o'\n",
    "\n",
    "# This gives an error as string is not a mutable data type. This is immutability"
   ]
  },
  {
   "cell_type": "code",
   "execution_count": null,
   "id": "a1c34fe6",
   "metadata": {},
   "outputs": [],
   "source": []
  }
 ],
 "metadata": {
  "kernelspec": {
   "display_name": "Python 3",
   "language": "python",
   "name": "python3"
  },
  "language_info": {
   "codemirror_mode": {
    "name": "ipython",
    "version": 3
   },
   "file_extension": ".py",
   "mimetype": "text/x-python",
   "name": "python",
   "nbconvert_exporter": "python",
   "pygments_lexer": "ipython3",
   "version": "3.8.8"
  }
 },
 "nbformat": 4,
 "nbformat_minor": 5
}
