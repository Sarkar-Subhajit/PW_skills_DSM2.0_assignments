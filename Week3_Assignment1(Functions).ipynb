{
 "cells": [
  {
   "cell_type": "markdown",
   "id": "0c728940",
   "metadata": {},
   "source": [
    "## Week 3 - Assignment 1 (Functions) Solutions\n",
    "\n",
    "### Q1. Which keyword is used to create a function? Create a function to return a list of odd numbers in the range of 1 to 25.\n",
    "\n",
    "**Answer -** In python, we can create a function by using keyword **def**. Function to return a list of odd numbers in the range of 1 to 25 is given below. For this, we shall be using generator function:"
   ]
  },
  {
   "cell_type": "code",
   "execution_count": 1,
   "id": "c8350037",
   "metadata": {},
   "outputs": [
    {
     "data": {
      "text/plain": [
       "[1, 3, 5, 7, 9, 11, 13, 15, 17, 19, 21, 23, 25]"
      ]
     },
     "execution_count": 1,
     "metadata": {},
     "output_type": "execute_result"
    }
   ],
   "source": [
    "def odd():\n",
    "    start = 1\n",
    "    end = 25\n",
    "    n=[]\n",
    "    for i in range(start, end +1):\n",
    "        if i%2!=0:\n",
    "            n.append(i)\n",
    "    return n\n",
    "\n",
    "odd()"
   ]
  },
  {
   "cell_type": "markdown",
   "id": "ba104540",
   "metadata": {},
   "source": [
    "### Q2. Why * args and ** kwargs is used in some functions? Create a function each for * args and ** kwargs to demonstrate their use.\n",
    "\n",
    "**Answer -** When we create a function in python, we need to provide the number of arguements. We use * args and ** kwargs when we are unsure of the number of arguements to be passed in the function. By using * args, we can insert n number of arguements in a function. By using ** kwargs, we can insert n number of key-value pairs as arguements in a function. Examples of both are given below."
   ]
  },
  {
   "cell_type": "code",
   "execution_count": 12,
   "id": "a605a578",
   "metadata": {},
   "outputs": [
    {
     "data": {
      "text/plain": [
       "[[1, 2, 3, 4, 4], [4, 5, 6], [6, 7, 8]]"
      ]
     },
     "execution_count": 12,
     "metadata": {},
     "output_type": "execute_result"
    }
   ],
   "source": [
    "# For *args\n",
    "'''Suppose we have a list l = (1,2,3, 4, (1,2,3,4,4) , \"subhajit\" , (4,5,6) , [6,7,8]) and want to extract the nested list \n",
    "inside another list. We can do this without defining the number of arguements the funtion will take.'''\n",
    "\n",
    "def test1 (*args):\n",
    "    n = []\n",
    "    for i in args:\n",
    "        if type(i) == list:\n",
    "            n.append(i)\n",
    "            \n",
    "    return n\n",
    "\n",
    "test1(1,2,3,[1,2,3,4,4] , (1,2,3,4,4) , \"sudh\" , [4,5,6] , [6,7,8])"
   ]
  },
  {
   "cell_type": "code",
   "execution_count": 15,
   "id": "f3c638f2",
   "metadata": {},
   "outputs": [
    {
     "data": {
      "text/plain": [
       "('c', [1, 2, 3, 4])"
      ]
     },
     "execution_count": 15,
     "metadata": {},
     "output_type": "execute_result"
    }
   ],
   "source": [
    "# For *kwargs\n",
    "'''Suppose we have key value pairs (a = 34 , b = 23 , c = [1,2,3,4] , d = (\"sudh\" , \"pwskills\")) and want to extract the \n",
    "nested list. We can do this by.'''\n",
    "\n",
    "def test2(**kwargs):\n",
    "    for i in kwargs.keys():\n",
    "        if type(kwargs[i])==list:\n",
    "            return i, kwargs[i]\n",
    "\n",
    "test2(a = 34 , b = 23 , c = [1,2,3,4] , d = (\"subhajit\" , \"sarkar\"))"
   ]
  },
  {
   "cell_type": "markdown",
   "id": "db7693f1",
   "metadata": {},
   "source": [
    "### Q3. What is an iterator in python? Name the method used to initialise the iterator object and the method used for iteration. Use these methods to print the first five elements of the given list [2, 4, 6, 8, 10, 12, 14, 16, 18, 20].\n",
    "\n",
    "**Answer -** An iterator is an object that contains a countable number of values. Basically, Iterators are methods that iterate collections like lists, tuples, etc. Using an iterator method, we can loop through an object and return its elements.\n",
    "\n",
    "**Iter()** method is used to initialize the iterator object so that the instance of this object can be used for iterating.The **next()** method is used to iterate over the iterable objects. The next() method returns the next value in the iterable object.\n",
    "\n",
    "The code is given below:"
   ]
  },
  {
   "cell_type": "code",
   "execution_count": 8,
   "id": "3ec2d939",
   "metadata": {},
   "outputs": [
    {
     "name": "stdout",
     "output_type": "stream",
     "text": [
      "2\n",
      "4\n",
      "6\n",
      "8\n",
      "10\n"
     ]
    }
   ],
   "source": [
    "#Given list is,\n",
    "l = [2, 4, 6, 8, 10, 12, 14, 16, 18, 20]\n",
    "\n",
    "l = iter(l)     # initializing iterator object\n",
    "\n",
    "print(next(l))  # iterate over 1st element in list\n",
    "print(next(l))  # iterate over 2nd element in list\n",
    "print(next(l))  # iterate over 3rd element in list\n",
    "print(next(l))  # iterate over 4th element in list\n",
    "print(next(l))  # iterate over 5th element in list"
   ]
  },
  {
   "cell_type": "markdown",
   "id": "d45474ad",
   "metadata": {},
   "source": [
    "### Q4. What is a generator function in python? Why yield keyword is used? Give an example of a generator function.\n",
    "\n",
    "**Answer -** A generator function is defined like a normal function, but whenever it needs to generate a value, it does so with the yield keyword rather than return. If the body of a def contains yield, the function automatically becomes a generator function.\n",
    "\n",
    "The **yield** keyword will turn any expression that is given with it into a generator object and return it to the caller. \n",
    "\n",
    "Example of generator function is given below:"
   ]
  },
  {
   "cell_type": "code",
   "execution_count": 16,
   "id": "269d267f",
   "metadata": {},
   "outputs": [
    {
     "data": {
      "text/plain": [
       "[1, 2, 3]"
      ]
     },
     "execution_count": 16,
     "metadata": {},
     "output_type": "execute_result"
    }
   ],
   "source": [
    "# To extract only the integer from list l using generator function.\n",
    "\n",
    "l = [1,2,3,4.5,(4,5,6),[7,8,9],\"subhajit\", \"sarkar\"]\n",
    "\n",
    "def test1(a):\n",
    "    n=[]\n",
    "    for i in a:\n",
    "        if type(i) == int:\n",
    "            n.append(i)\n",
    "    return n\n",
    "\n",
    "test1(l)"
   ]
  },
  {
   "cell_type": "markdown",
   "id": "35613654",
   "metadata": {},
   "source": [
    "### Q5. Create a generator function for prime numbers less than 1000. Use the next() method to print the first 20 prime numbers.\n",
    "\n",
    "**Answer -** The answer is given below:"
   ]
  },
  {
   "cell_type": "code",
   "execution_count": 67,
   "id": "02600773",
   "metadata": {},
   "outputs": [
    {
     "name": "stdout",
     "output_type": "stream",
     "text": [
      "2\n",
      "3\n",
      "5\n",
      "7\n",
      "11\n",
      "13\n",
      "17\n",
      "19\n",
      "23\n",
      "29\n",
      "31\n",
      "37\n",
      "41\n",
      "43\n",
      "47\n",
      "53\n",
      "59\n",
      "61\n",
      "67\n",
      "71\n",
      "73\n",
      "79\n",
      "83\n",
      "89\n",
      "97\n",
      "101\n",
      "103\n",
      "107\n",
      "109\n",
      "113\n",
      "127\n",
      "131\n",
      "137\n",
      "139\n",
      "149\n",
      "151\n",
      "157\n",
      "163\n",
      "167\n",
      "173\n",
      "179\n",
      "181\n",
      "191\n",
      "193\n",
      "197\n",
      "199\n",
      "211\n",
      "223\n",
      "227\n",
      "229\n",
      "233\n",
      "239\n",
      "241\n",
      "251\n",
      "257\n",
      "263\n",
      "269\n",
      "271\n",
      "277\n",
      "281\n",
      "283\n",
      "293\n",
      "307\n",
      "311\n",
      "313\n",
      "317\n",
      "331\n",
      "337\n",
      "347\n",
      "349\n",
      "353\n",
      "359\n",
      "367\n",
      "373\n",
      "379\n",
      "383\n",
      "389\n",
      "397\n",
      "401\n",
      "409\n",
      "419\n",
      "421\n",
      "431\n",
      "433\n",
      "439\n",
      "443\n",
      "449\n",
      "457\n",
      "461\n",
      "463\n",
      "467\n",
      "479\n",
      "487\n",
      "491\n",
      "499\n",
      "503\n",
      "509\n",
      "521\n",
      "523\n",
      "541\n",
      "547\n",
      "557\n",
      "563\n",
      "569\n",
      "571\n",
      "577\n",
      "587\n",
      "593\n",
      "599\n",
      "601\n",
      "607\n",
      "613\n",
      "617\n",
      "619\n",
      "631\n",
      "641\n",
      "643\n",
      "647\n",
      "653\n",
      "659\n",
      "661\n",
      "673\n",
      "677\n",
      "683\n",
      "691\n",
      "701\n",
      "709\n",
      "719\n",
      "727\n",
      "733\n",
      "739\n",
      "743\n",
      "751\n",
      "757\n",
      "761\n",
      "769\n",
      "773\n",
      "787\n",
      "797\n",
      "809\n",
      "811\n",
      "821\n",
      "823\n",
      "827\n",
      "829\n",
      "839\n",
      "853\n",
      "857\n",
      "859\n",
      "863\n",
      "877\n",
      "881\n",
      "883\n",
      "887\n",
      "907\n",
      "911\n",
      "919\n",
      "929\n",
      "937\n",
      "941\n",
      "947\n",
      "953\n",
      "967\n",
      "971\n",
      "977\n",
      "983\n",
      "991\n",
      "997\n"
     ]
    }
   ],
   "source": [
    "# Generator function for prime numbers less than 1000\n",
    "\n",
    "def prime_less_1000():\n",
    "    for num in range(2, 1000):\n",
    "        for i in range(2, num):\n",
    "            if (num % i) == 0:\n",
    "                break\n",
    "        else:\n",
    "            print(num)\n",
    "\n",
    "prime_less_1000()"
   ]
  },
  {
   "cell_type": "code",
   "execution_count": 59,
   "id": "a763375e",
   "metadata": {},
   "outputs": [
    {
     "name": "stdout",
     "output_type": "stream",
     "text": [
      "2\n",
      "3\n",
      "5\n",
      "7\n",
      "11\n",
      "13\n",
      "17\n",
      "19\n",
      "23\n",
      "29\n",
      "31\n",
      "37\n",
      "41\n",
      "43\n",
      "47\n",
      "53\n",
      "59\n",
      "61\n",
      "67\n",
      "71\n"
     ]
    },
    {
     "ename": "StopIteration",
     "evalue": "",
     "output_type": "error",
     "traceback": [
      "\u001b[1;31m---------------------------------------------------------------------------\u001b[0m",
      "\u001b[1;31mStopIteration\u001b[0m                             Traceback (most recent call last)",
      "\u001b[1;32m<ipython-input-59-04e00b30e687>\u001b[0m in \u001b[0;36m<module>\u001b[1;34m\u001b[0m\n\u001b[0;32m     23\u001b[0m \u001b[0mprint\u001b[0m\u001b[1;33m(\u001b[0m\u001b[0mnext\u001b[0m\u001b[1;33m(\u001b[0m\u001b[0mp\u001b[0m\u001b[1;33m)\u001b[0m\u001b[1;33m)\u001b[0m\u001b[1;33m\u001b[0m\u001b[1;33m\u001b[0m\u001b[0m\n\u001b[0;32m     24\u001b[0m \u001b[0mprint\u001b[0m\u001b[1;33m(\u001b[0m\u001b[0mnext\u001b[0m\u001b[1;33m(\u001b[0m\u001b[0mp\u001b[0m\u001b[1;33m)\u001b[0m\u001b[1;33m)\u001b[0m\u001b[1;33m\u001b[0m\u001b[1;33m\u001b[0m\u001b[0m\n\u001b[1;32m---> 25\u001b[1;33m \u001b[0mprint\u001b[0m\u001b[1;33m(\u001b[0m\u001b[0mnext\u001b[0m\u001b[1;33m(\u001b[0m\u001b[0mp\u001b[0m\u001b[1;33m)\u001b[0m\u001b[1;33m)\u001b[0m\u001b[1;33m\u001b[0m\u001b[1;33m\u001b[0m\u001b[0m\n\u001b[0m",
      "\u001b[1;31mStopIteration\u001b[0m: "
     ]
    }
   ],
   "source": [
    "#First 20 prime numbers using next() method\n",
    "l = [2,3,5,7,11,13,17,19,23,29,31,37,41,43,47,53,59,61,67,71]\n",
    "\n",
    "p = iter(l)\n",
    "print(next(p))\n",
    "print(next(p))\n",
    "print(next(p))\n",
    "print(next(p))\n",
    "print(next(p))\n",
    "print(next(p))\n",
    "print(next(p))\n",
    "print(next(p))\n",
    "print(next(p))\n",
    "print(next(p))\n",
    "print(next(p))\n",
    "print(next(p))\n",
    "print(next(p))\n",
    "print(next(p))\n",
    "print(next(p))\n",
    "print(next(p))\n",
    "print(next(p))\n",
    "print(next(p))\n",
    "print(next(p))\n",
    "print(next(p))\n",
    "print(next(p))"
   ]
  },
  {
   "cell_type": "code",
   "execution_count": null,
   "id": "c03b4dd1",
   "metadata": {},
   "outputs": [],
   "source": []
  }
 ],
 "metadata": {
  "kernelspec": {
   "display_name": "Python 3",
   "language": "python",
   "name": "python3"
  },
  "language_info": {
   "codemirror_mode": {
    "name": "ipython",
    "version": 3
   },
   "file_extension": ".py",
   "mimetype": "text/x-python",
   "name": "python",
   "nbconvert_exporter": "python",
   "pygments_lexer": "ipython3",
   "version": "3.8.8"
  }
 },
 "nbformat": 4,
 "nbformat_minor": 5
}
