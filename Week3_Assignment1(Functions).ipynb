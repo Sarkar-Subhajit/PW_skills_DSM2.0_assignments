{
 "cells": [
  {
   "cell_type": "markdown",
   "id": "a4dc16d8",
   "metadata": {},
   "source": [
    "## Week 3 - Assignment 1 (Functions) Solutions\n",
    "\n",
    "### Q1. Which keyword is used to create a function? Create a function to return a list of odd numbers in the range of 1 to 25.\n",
    "\n",
    "**Answer -** In python, we can create a function by using keyword **def**. Function to return a list of odd numbers in the range of 1 to 25 is given below. For this, we shall be using generator function:"
   ]
  },
  {
   "cell_type": "code",
   "execution_count": 1,
   "id": "32647733",
   "metadata": {},
   "outputs": [
    {
     "data": {
      "text/plain": [
       "[1, 3, 5, 7, 9, 11, 13, 15, 17, 19, 21, 23, 25]"
      ]
     },
     "execution_count": 1,
     "metadata": {},
     "output_type": "execute_result"
    }
   ],
   "source": [
    "def odd():\n",
    "    start = 1\n",
    "    end = 25\n",
    "    n=[]\n",
    "    for i in range(start, end +1):\n",
    "        if i%2!=0:\n",
    "            n.append(i)\n",
    "    return n\n",
    "\n",
    "odd()"
   ]
  },
  {
   "cell_type": "markdown",
   "id": "7b0a2cf3",
   "metadata": {},
   "source": [
    "### Q2. Why * args and ** kwargs is used in some functions? Create a function each for * args and ** kwargs to demonstrate their use.\n",
    "\n",
    "**Answer -** When we create a function in python, we need to provide the number of arguements. We use * args and ** kwargs when we are unsure of the number of arguements to be passed in the function. By using * args, we can insert n number of arguements in a function. By using ** kwargs, we can insert n number of key-value pairs as arguements in a function. Examples of both are given below."
   ]
  },
  {
   "cell_type": "code",
   "execution_count": 12,
   "id": "3acba724",
   "metadata": {},
   "outputs": [
    {
     "data": {
      "text/plain": [
       "[[1, 2, 3, 4, 4], [4, 5, 6], [6, 7, 8]]"
      ]
     },
     "execution_count": 12,
     "metadata": {},
     "output_type": "execute_result"
    }
   ],
   "source": [
    "# For *args\n",
    "'''Suppose we have a list l = (1,2,3, 4, (1,2,3,4,4) , \"subhajit\" , (4,5,6) , [6,7,8]) and want to extract the nested list \n",
    "inside another list. We can do this without defining the number of arguements the funtion will take.'''\n",
    "\n",
    "def test1 (*args):\n",
    "    n = []\n",
    "    for i in args:\n",
    "        if type(i) == list:\n",
    "            n.append(i)\n",
    "            \n",
    "    return n\n",
    "\n",
    "test1(1,2,3,[1,2,3,4,4] , (1,2,3,4,4) , \"sudh\" , [4,5,6] , [6,7,8])"
   ]
  },
  {
   "cell_type": "code",
   "execution_count": 15,
   "id": "1b03ecee",
   "metadata": {},
   "outputs": [
    {
     "data": {
      "text/plain": [
       "('c', [1, 2, 3, 4])"
      ]
     },
     "execution_count": 15,
     "metadata": {},
     "output_type": "execute_result"
    }
   ],
   "source": [
    "# For *kwargs\n",
    "'''Suppose we have key value pairs (a = 34 , b = 23 , c = [1,2,3,4] , d = (\"sudh\" , \"pwskills\")) and want to extract the \n",
    "nested list. We can do this by.'''\n",
    "\n",
    "def test2(**kwargs):\n",
    "    for i in kwargs.keys():\n",
    "        if type(kwargs[i])==list:\n",
    "            return i, kwargs[i]\n",
    "\n",
    "test2(a = 34 , b = 23 , c = [1,2,3,4] , d = (\"subhajit\" , \"sarkar\"))"
   ]
  },
  {
   "cell_type": "markdown",
   "id": "71717e10",
   "metadata": {},
   "source": [
    "### Q3. What is an iterator in python? Name the method used to initialise the iterator object and the method used for iteration. Use these methods to print the first five elements of the given list [2, 4, 6, 8, 10, 12, 14, 16, 18, 20].\n",
    "\n",
    "**Answer -** An iterator is an object that contains a countable number of values. Basically, Iterators are methods that iterate collections like lists, tuples, etc. Using an iterator method, we can loop through an object and return its elements.\n",
    "\n",
    "**Iter()** method is used to initialize the iterator object so that the instance of this object can be used for iterating.The **next()** method is used to iterate over the iterable objects. The next() method returns the next value in the iterable object."
   ]
  },
  {
   "cell_type": "code",
   "execution_count": null,
   "id": "a948bf82",
   "metadata": {},
   "outputs": [],
   "source": []
  },
  {
   "cell_type": "markdown",
   "id": "cc61039a",
   "metadata": {},
   "source": [
    "### Q4. What is a generator function in python? Why yield keyword is used? Give an example of a generator function.\n",
    "\n",
    "**Answer -** A generator function is defined like a normal function, but whenever it needs to generate a value, it does so with the yield keyword rather than return. If the body of a def contains yield, the function automatically becomes a generator function."
   ]
  }
 ],
 "metadata": {
  "kernelspec": {
   "display_name": "Python 3",
   "language": "python",
   "name": "python3"
  },
  "language_info": {
   "codemirror_mode": {
    "name": "ipython",
    "version": 3
   },
   "file_extension": ".py",
   "mimetype": "text/x-python",
   "name": "python",
   "nbconvert_exporter": "python",
   "pygments_lexer": "ipython3",
   "version": "3.8.8"
  }
 },
 "nbformat": 4,
 "nbformat_minor": 5
}
