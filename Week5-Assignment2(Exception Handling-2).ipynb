{
 "cells": [
  {
   "cell_type": "markdown",
   "id": "3c658ca9",
   "metadata": {},
   "source": [
    "# Week 5 - Assignment1 (Exception Handling 2) Solutions\n",
    "\n",
    "\n",
    "### Q1. Explain why we have to use the Exception class while creating a Custom Exception.\n",
    "\n",
    "**Answer -**\n",
    "Exceptions need to be derived from the built-in Exception class in python, either directly or indirectly. The built-in Exception class contains variables and functions needed to deal with errors and exceptions. \n",
    "\n",
    "A custom exception is a user-defined exception that is created by the programmer to handle specific error scenarios in a program. A custom exception is made by subclassing the built-in Exception class or any of its subclasses accordng to the problem. When a custom exception is raised, it behaves like any other exception in Python, triggering an error message and terminating the program if it is not handled properly.\n",
    "\n",
    "The process of creating a custom exception is by creating a class and then importing the properties of Exception class into it by using Inheritance method. By this, all the characteristics/ variables/ functions are inherited into the custom exception class. One can then use this class, while defining a function, to program the conditions for solving the problem in an user-defined manner. Finally, the programmer can set this function under try block and the class under except block.\n",
    "\n",
    "For example : One may come across a scenario whereby a condition is an error for user but given the programming is correct, is not an error for python compiler. Consider a scenario where an user needs to input his/her age and create a function to print it. If the input is negative, the program prints negative age, which is not prossible. Thus we create a custom exception for it."
   ]
  },
  {
   "cell_type": "code",
   "execution_count": 2,
   "id": "8a47cd8d",
   "metadata": {},
   "outputs": [
    {
     "name": "stdout",
     "output_type": "stream",
     "text": [
      "enter your age -29\n"
     ]
    }
   ],
   "source": [
    "a = int(input(\"enter your age \"))"
   ]
  },
  {
   "cell_type": "code",
   "execution_count": 3,
   "id": "1a777144",
   "metadata": {},
   "outputs": [],
   "source": [
    "class validateage(Exception):\n",
    "    \n",
    "    def __init__(self, message):\n",
    "        self.message = message"
   ]
  },
  {
   "cell_type": "code",
   "execution_count": 4,
   "id": "91774565",
   "metadata": {},
   "outputs": [],
   "source": [
    "def validate_age(age):\n",
    "    if age < 0:\n",
    "        raise validateage(\"Age should not be negative\")\n",
    "    elif age >200:\n",
    "        raise validateage(\"Age is too high\")\n",
    "    else:\n",
    "        print(\"Age is valid\")"
   ]
  },
  {
   "cell_type": "code",
   "execution_count": 5,
   "id": "b5d355fa",
   "metadata": {},
   "outputs": [
    {
     "name": "stdout",
     "output_type": "stream",
     "text": [
      "Enter your age -29\n",
      "Age should not be negative\n"
     ]
    }
   ],
   "source": [
    "try :\n",
    "    age = int(input(\"Enter your age \"))\n",
    "    validate_age(age)\n",
    "except validateage as e :\n",
    "    print(e)"
   ]
  },
  {
   "cell_type": "markdown",
   "id": "4f50790f",
   "metadata": {},
   "source": [
    "### Q2. Write a python program to print Python Exception Hierarchy.\n",
    "\n",
    "**Answer -**\n",
    "In Python, all exceptions are actually a built-in class and are derived from the BaseException class. This means that every exception in Python is an instance of BaseException or one of its subclasses. Consider **ZeroDivisionError** which is an exception and is a built-in class that is raised when one try to divide any number by zero. When any exception occurs(user divides a number by zero), python interpreter calls the respective class(ZeroDivisionError class) and calls its constructor that has the raise statement. The raise statement will be used to raise the exception and print the error statement while blocking the flow of the program(stopping the execution of further programs) . \n",
    "\n",
    "There are a number of built-in exception classes in python that one can use or to create custom exception class. The hierarchy of built-in exception classes in Python can be checked from official Python documentation or can be derived by the following code. For this, we need to import `inspect` module and use the function `getclasstree` from it. The code is given below.  "
   ]
  },
  {
   "cell_type": "code",
   "execution_count": 7,
   "id": "54fa4f47",
   "metadata": {},
   "outputs": [
    {
     "name": "stdout",
     "output_type": "stream",
     "text": [
      "The class hierarchy for built-in exceptions is:\n",
      " Exception\n",
      "... TypeError\n",
      "...... MultipartConversionError\n",
      "...... FloatOperation\n",
      "... StopAsyncIteration\n",
      "... StopIteration\n",
      "... ImportError\n",
      "...... ModuleNotFoundError\n",
      "...... ZipImportError\n",
      "... OSError\n",
      "...... ConnectionError\n",
      "......... BrokenPipeError\n",
      "......... ConnectionAbortedError\n",
      "......... ConnectionRefusedError\n",
      "......... ConnectionResetError\n",
      "............ RemoteDisconnected\n",
      "...... BlockingIOError\n",
      "...... ChildProcessError\n",
      "...... FileExistsError\n",
      "...... FileNotFoundError\n",
      "...... IsADirectoryError\n",
      "...... NotADirectoryError\n",
      "...... InterruptedError\n",
      "......... InterruptedSystemCall\n",
      "...... PermissionError\n",
      "...... ProcessLookupError\n",
      "...... TimeoutError\n",
      "...... UnsupportedOperation\n",
      "...... Error\n",
      "......... SameFileError\n",
      "...... SpecialFileError\n",
      "...... ExecError\n",
      "...... ReadError\n",
      "...... herror\n",
      "...... gaierror\n",
      "...... timeout\n",
      "...... SSLError\n",
      "......... SSLCertVerificationError\n",
      "......... SSLZeroReturnError\n",
      "......... SSLWantReadError\n",
      "......... SSLWantWriteError\n",
      "......... SSLSyscallError\n",
      "......... SSLEOFError\n",
      "...... URLError\n",
      "......... HTTPError\n",
      "......... ContentTooShortError\n",
      "... EOFError\n",
      "...... IncompleteReadError\n",
      "... RuntimeError\n",
      "...... RecursionError\n",
      "...... NotImplementedError\n",
      "......... StdinNotImplementedError\n",
      "......... ZMQVersionError\n",
      "...... _DeadlockError\n",
      "...... BrokenBarrierError\n",
      "...... BrokenExecutor\n",
      "...... SendfileNotAvailableError\n",
      "... NameError\n",
      "...... UnboundLocalError\n",
      "... AttributeError\n",
      "... SyntaxError\n",
      "...... IndentationError\n",
      "......... TabError\n",
      "... LookupError\n",
      "...... IndexError\n",
      "...... KeyError\n",
      "......... UnknownBackend\n",
      "......... NoSuchKernel\n",
      "...... CodecRegistryError\n",
      "... ValueError\n",
      "...... UnicodeError\n",
      "......... UnicodeEncodeError\n",
      "......... UnicodeDecodeError\n",
      "......... UnicodeTranslateError\n",
      "...... UnsupportedOperation\n",
      "...... JSONDecodeError\n",
      "...... Error\n",
      "...... ClassNotFound\n",
      "...... SSLCertVerificationError\n",
      "...... ClipboardEmpty\n",
      "...... MessageDefect\n",
      "......... NoBoundaryInMultipartDefect\n",
      "......... StartBoundaryNotFoundDefect\n",
      "......... CloseBoundaryNotFoundDefect\n",
      "......... FirstHeaderLineIsContinuationDefect\n",
      "......... MisplacedEnvelopeHeaderDefect\n",
      "......... MissingHeaderBodySeparatorDefect\n",
      "......... MultipartInvariantViolationDefect\n",
      "......... InvalidMultipartContentTransferEncodingDefect\n",
      "......... UndecodableBytesDefect\n",
      "......... InvalidBase64PaddingDefect\n",
      "......... InvalidBase64CharactersDefect\n",
      "......... InvalidBase64LengthDefect\n",
      "......... HeaderDefect\n",
      "............ InvalidHeaderDefect\n",
      "............ HeaderMissingRequiredValue\n",
      "............ NonPrintableDefect\n",
      "............ ObsoleteHeaderDefect\n",
      "............ NonASCIILocalPartDefect\n",
      "...... IllegalMonthError\n",
      "...... IllegalWeekdayError\n",
      "...... MacroToEdit\n",
      "...... ParserError\n",
      "... AssertionError\n",
      "... ArithmeticError\n",
      "...... FloatingPointError\n",
      "...... OverflowError\n",
      "...... ZeroDivisionError\n",
      "......... DivisionByZero\n",
      "......... DivisionUndefined\n",
      "...... DecimalException\n",
      "......... Clamped\n",
      "......... Rounded\n",
      "............ Underflow\n",
      "............ Overflow\n",
      "......... Inexact\n",
      "............ Underflow\n",
      "............ Overflow\n",
      "......... Subnormal\n",
      "............ Underflow\n",
      "......... DivisionByZero\n",
      "......... FloatOperation\n",
      "......... InvalidOperation\n",
      "............ ConversionSyntax\n",
      "............ DivisionImpossible\n",
      "............ DivisionUndefined\n",
      "............ InvalidContext\n",
      "... SystemError\n",
      "...... CodecRegistryError\n",
      "... ReferenceError\n",
      "... MemoryError\n",
      "... BufferError\n",
      "... Warning\n",
      "...... UserWarning\n",
      "......... GetPassWarning\n",
      "......... FormatterWarning\n",
      "...... DeprecationWarning\n",
      "......... ProvisionalWarning\n",
      "...... PendingDeprecationWarning\n",
      "...... SyntaxWarning\n",
      "...... RuntimeWarning\n",
      "......... UnknownTimezoneWarning\n",
      "...... FutureWarning\n",
      "......... ProvisionalCompleterWarning\n",
      "...... ImportWarning\n",
      "...... UnicodeWarning\n",
      "...... BytesWarning\n",
      "...... ResourceWarning\n",
      "...... DeprecatedTzFormatWarning\n",
      "... Error\n",
      "... _OptionError\n",
      "... _Error\n",
      "... error\n",
      "... Verbose\n",
      "... SubprocessError\n",
      "...... CalledProcessError\n",
      "...... TimeoutExpired\n",
      "... Error\n",
      "... TokenError\n",
      "... StopTokenizing\n",
      "... error\n",
      "... LZMAError\n",
      "... RegistryError\n",
      "... _GiveupOnFastCopy\n",
      "... EndOfBlock\n",
      "... TraitError\n",
      "... ArgumentError\n",
      "... ArgumentTypeError\n",
      "... ConfigError\n",
      "...... ConfigLoaderError\n",
      "......... ArgumentError\n",
      "...... ConfigFileNotFound\n",
      "... ConfigurableError\n",
      "...... MultipleInstanceError\n",
      "... ApplicationError\n",
      "... ErrorDuringImport\n",
      "... BdbQuit\n",
      "... Restart\n",
      "... COMError\n",
      "... ArgumentError\n",
      "... error\n",
      "... FindCmdError\n",
      "... HomeDirError\n",
      "... ProfileDirError\n",
      "... IPythonCoreError\n",
      "...... TryNext\n",
      "...... UsageError\n",
      "...... StdinNotImplementedError\n",
      "... InputRejected\n",
      "... GetoptError\n",
      "... Incomplete\n",
      "... OptionError\n",
      "... ErrorToken\n",
      "... PickleError\n",
      "...... PicklingError\n",
      "...... UnpicklingError\n",
      "... _Stop\n",
      "... PrefilterError\n",
      "... AliasError\n",
      "...... InvalidAliasError\n",
      "... Error\n",
      "...... InterfaceError\n",
      "...... DatabaseError\n",
      "......... InternalError\n",
      "......... OperationalError\n",
      "......... ProgrammingError\n",
      "......... IntegrityError\n",
      "......... DataError\n",
      "......... NotSupportedError\n",
      "... Warning\n",
      "... SpaceInInput\n",
      "... Error\n",
      "...... CancelledError\n",
      "...... TimeoutError\n",
      "...... InvalidStateError\n",
      "... _GiveupOnSendfile\n",
      "... TimeoutError\n",
      "... InvalidStateError\n",
      "... LimitOverrunError\n",
      "... QueueEmpty\n",
      "... QueueFull\n",
      "... DOMException\n",
      "...... IndexSizeErr\n",
      "...... DomstringSizeErr\n",
      "...... HierarchyRequestErr\n",
      "...... WrongDocumentErr\n",
      "...... InvalidCharacterErr\n",
      "...... NoDataAllowedErr\n",
      "...... NoModificationAllowedErr\n",
      "...... NotFoundErr\n",
      "...... NotSupportedErr\n",
      "...... InuseAttributeErr\n",
      "...... InvalidStateErr\n",
      "...... SyntaxErr\n",
      "...... InvalidModificationErr\n",
      "...... NamespaceErr\n",
      "...... InvalidAccessErr\n",
      "...... ValidationErr\n",
      "... ValidationError\n",
      "... EditReadOnlyBuffer\n",
      "... _Retry\n",
      "... InvalidLayoutError\n",
      "... HeightIsUnknownError\n",
      "... Empty\n",
      "... Full\n",
      "... ParserSyntaxError\n",
      "... InternalParseError\n",
      "... _PositionUpdatingFinished\n",
      "... SimpleGetItemNotFound\n",
      "... UncaughtAttributeError\n",
      "... ParamIssue\n",
      "... OnErrorLeaf\n",
      "... _JediError\n",
      "...... InternalError\n",
      "...... WrongVersion\n",
      "...... RefactoringError\n",
      "... InvalidPythonEnvironment\n",
      "... MessageError\n",
      "...... MessageParseError\n",
      "......... HeaderParseError\n",
      "......... BoundaryError\n",
      "...... MultipartConversionError\n",
      "...... CharsetError\n",
      "... Error\n",
      "... HTTPException\n",
      "...... NotConnected\n",
      "...... InvalidURL\n",
      "...... UnknownProtocol\n",
      "...... UnknownTransferEncoding\n",
      "...... UnimplementedFileMode\n",
      "...... IncompleteRead\n",
      "...... ImproperConnectionState\n",
      "......... CannotSendRequest\n",
      "......... CannotSendHeader\n",
      "......... ResponseNotReady\n",
      "...... BadStatusLine\n",
      "......... RemoteDisconnected\n",
      "...... LineTooLong\n",
      "... InteractivelyDefined\n",
      "... KillEmbedded\n",
      "... ZMQBaseError\n",
      "...... ZMQError\n",
      "......... ContextTerminated\n",
      "......... Again\n",
      "......... InterruptedSystemCall\n",
      "...... ZMQBindError\n",
      "...... NotDone\n",
      "... NoIPAddresses\n",
      "... InvalidPortNumber\n",
      "... DuplicateKernelError\n",
      "... TimeoutError\n",
      "... ReturnValueIgnoredError\n",
      "... KeyReuseError\n",
      "... UnknownKeyError\n",
      "... LeakedCallbackError\n",
      "... BadYieldError\n",
      "... ReturnValueIgnoredError\n",
      "... Return\n",
      "... QueueEmpty\n",
      "... QueueFull\n",
      "... error\n",
      "... com_error\n",
      "... validateage\n"
     ]
    }
   ],
   "source": [
    "import inspect\n",
    "print(\"The class hierarchy for built-in exceptions is:\")\n",
    "inspect.getclasstree(inspect.getmro(Exception))\n",
    "def classtree(cls, indent=0):\n",
    "    print('.' * indent, cls.__name__)\n",
    "    for subcls in cls.__subclasses__():\n",
    "        classtree(subcls, indent + 3)\n",
    "classtree(Exception)"
   ]
  },
  {
   "cell_type": "markdown",
   "id": "92cff07b",
   "metadata": {},
   "source": [
    "### Q3. What errors are defined in the ArithmeticError class? Explain any two with an example.\n",
    "\n",
    "**Answer -**\n",
    "**ArithmeticError** is simply an error that occurs during numeric calculations or arithmetic operations. In python exception class heirarchy, ArithmeticError is a base class that has the errors :\n",
    "\n",
    "* FloatingPointError\n",
    "* OverflowError\n",
    "* ZeroDivisionError\n",
    "\n",
    "Let us consider examples for ZeroDivisionError and OverflowError. ***ZeroDivisionError*** is an error that is raised when we try to divide a number by zero. Suppose we divide 10 by 0. It will give us an error. But it can be handled in the following way."
   ]
  },
  {
   "cell_type": "code",
   "execution_count": 8,
   "id": "524f9396",
   "metadata": {},
   "outputs": [
    {
     "name": "stdout",
     "output_type": "stream",
     "text": [
      "division by zero\n"
     ]
    }
   ],
   "source": [
    "try :\n",
    "    a = 10\n",
    "    a/0\n",
    "except ZeroDivisionError as e:\n",
    "    print(e) "
   ]
  },
  {
   "cell_type": "markdown",
   "id": "7f363b6d",
   "metadata": {},
   "source": [
    "**OverflowError** is raised When an arithmetic operation exceeds the limits of the variable type. Long integers allocate more space as values grow, so they end up raising MemoryError. Consider an example when we are trying to calculate the exponent of a floating point number, it fails at a certain stage with OverflowError exception. It can be handled in the following way."
   ]
  },
  {
   "cell_type": "code",
   "execution_count": 9,
   "id": "d416f890",
   "metadata": {},
   "outputs": [
    {
     "name": "stdout",
     "output_type": "stream",
     "text": [
      "2.0\n",
      "4.0\n",
      "64.0\n",
      "16777216.0\n",
      "1.329227995784916e+36\n",
      "5.515652263101987e+216\n",
      "Overflow error happened\n",
      "(34, 'Result too large'), <class 'OverflowError'>\n"
     ]
    }
   ],
   "source": [
    "j = 2.0\n",
    "\n",
    "try:\n",
    "    for i in range(1, 1000):\n",
    "        j = j**i\n",
    "        print(j)\n",
    "except OverflowError as e:\n",
    "    print(\"Overflow error happened\")\n",
    "    print(f\"{e}, {e.__class__}\")"
   ]
  },
  {
   "cell_type": "markdown",
   "id": "3a36d400",
   "metadata": {},
   "source": [
    "### Q4. Why LookupError class is used? Explain with an example KeyError and IndexError.\n",
    "\n",
    "**Answer -**\n",
    "The **LookupError** exception class in Python forms the base class for all exceptions that are raised when an index is not found in a sequence like list, tuples or a key is not found in a dictionary. It contains two types of errors - (a)KeyError & (b)IndexError\n",
    "\n",
    "**(a) KeyError:**  KeyError is an exception that occurs when an attempt is made to access an item in a dictionary that does not exist. Consider the following example of a dictionary that does not have a key named 'key10'. This can be handled in the following way."
   ]
  },
  {
   "cell_type": "code",
   "execution_count": 11,
   "id": "cd521163",
   "metadata": {},
   "outputs": [
    {
     "name": "stdout",
     "output_type": "stream",
     "text": [
      "'key10'\n"
     ]
    }
   ],
   "source": [
    "try :\n",
    "    d = {1:[3,4,5,5], \"key\":\"subhajit\"}\n",
    "    d[\"key10\"]\n",
    "except KeyError as e:\n",
    "    print(e)"
   ]
  },
  {
   "cell_type": "markdown",
   "id": "e9823159",
   "metadata": {},
   "source": [
    "**(b) IndexError:** IndexError is an excepion that occurs when an attempt is made to access an item in a list at an index which is out of bounds. Consider a list that does not have a 10th index and hence has no data at that point. This can be handled in the following way."
   ]
  },
  {
   "cell_type": "code",
   "execution_count": 12,
   "id": "5af8aee3",
   "metadata": {},
   "outputs": [
    {
     "name": "stdout",
     "output_type": "stream",
     "text": [
      "list index out of range\n"
     ]
    }
   ],
   "source": [
    "try :\n",
    "    l = [1,2,3,3]\n",
    "    l[10]\n",
    "except IndexError as e :\n",
    "    print(e)"
   ]
  },
  {
   "cell_type": "markdown",
   "id": "eab450a6",
   "metadata": {},
   "source": [
    "### Q5. Explain ImportError. What is ModuleNotFoundError?\n",
    "\n",
    "**Answer -**\n",
    "**ImportError** is raised when a module, or member of a module, cannot be imported. ImportError can arise out of the following reasons:\n",
    "* The imported class is in a circular dependency.\n",
    "* The imported class is unavailable or was not created.\n",
    "* The imported class name is misspelled.\n",
    "* The imported class from a module is misplaced.\n",
    "* The imported class is unavailable in the Python library.\n",
    "\n",
    "For example, we try to import a function datetime that does not exist in a library time"
   ]
  },
  {
   "cell_type": "code",
   "execution_count": 16,
   "id": "4f5ed950",
   "metadata": {},
   "outputs": [
    {
     "name": "stdout",
     "output_type": "stream",
     "text": [
      "cannot import name 'datetime' from 'time' (unknown location)\n"
     ]
    },
    {
     "ename": "AttributeError",
     "evalue": "module 'sys' has no attribute 'exc_type'",
     "output_type": "error",
     "traceback": [
      "\u001b[1;31m---------------------------------------------------------------------------\u001b[0m",
      "\u001b[1;31mImportError\u001b[0m                               Traceback (most recent call last)",
      "\u001b[1;32m<ipython-input-16-b6ff638038aa>\u001b[0m in \u001b[0;36m<module>\u001b[1;34m\u001b[0m\n\u001b[0;32m      2\u001b[0m \u001b[1;32mtry\u001b[0m\u001b[1;33m:\u001b[0m\u001b[1;33m\u001b[0m\u001b[1;33m\u001b[0m\u001b[0m\n\u001b[1;32m----> 3\u001b[1;33m    \u001b[1;32mfrom\u001b[0m \u001b[0mtime\u001b[0m \u001b[1;32mimport\u001b[0m \u001b[0mdatetime\u001b[0m\u001b[1;33m\u001b[0m\u001b[1;33m\u001b[0m\u001b[0m\n\u001b[0m\u001b[0;32m      4\u001b[0m \u001b[1;32mexcept\u001b[0m \u001b[0mException\u001b[0m \u001b[1;32mas\u001b[0m \u001b[0me\u001b[0m\u001b[1;33m:\u001b[0m\u001b[1;33m\u001b[0m\u001b[1;33m\u001b[0m\u001b[0m\n",
      "\u001b[1;31mImportError\u001b[0m: cannot import name 'datetime' from 'time' (unknown location)",
      "\nDuring handling of the above exception, another exception occurred:\n",
      "\u001b[1;31mAttributeError\u001b[0m                            Traceback (most recent call last)",
      "\u001b[1;32m<ipython-input-16-b6ff638038aa>\u001b[0m in \u001b[0;36m<module>\u001b[1;34m\u001b[0m\n\u001b[0;32m      4\u001b[0m \u001b[1;32mexcept\u001b[0m \u001b[0mException\u001b[0m \u001b[1;32mas\u001b[0m \u001b[0me\u001b[0m\u001b[1;33m:\u001b[0m\u001b[1;33m\u001b[0m\u001b[1;33m\u001b[0m\u001b[0m\n\u001b[0;32m      5\u001b[0m    \u001b[0mprint\u001b[0m \u001b[1;33m(\u001b[0m\u001b[0me\u001b[0m\u001b[1;33m)\u001b[0m\u001b[1;33m\u001b[0m\u001b[1;33m\u001b[0m\u001b[0m\n\u001b[1;32m----> 6\u001b[1;33m    \u001b[0mprint\u001b[0m \u001b[1;33m(\u001b[0m\u001b[0msys\u001b[0m\u001b[1;33m.\u001b[0m\u001b[0mexc_type\u001b[0m\u001b[1;33m)\u001b[0m\u001b[1;33m\u001b[0m\u001b[1;33m\u001b[0m\u001b[0m\n\u001b[0m",
      "\u001b[1;31mAttributeError\u001b[0m: module 'sys' has no attribute 'exc_type'"
     ]
    }
   ],
   "source": [
    " import sys\n",
    " try:\n",
    "    from time import datetime\n",
    " except Exception as e:\n",
    "    print (e)\n",
    "    print (sys.exc_type)"
   ]
  },
  {
   "cell_type": "markdown",
   "id": "2d3b862c",
   "metadata": {},
   "source": [
    "**ModuleNotFoundError** is an exception that is raised when we want to import a module that does not exist. For example, we try to import a module named Subhajit that does not exist"
   ]
  },
  {
   "cell_type": "code",
   "execution_count": 14,
   "id": "43153d5c",
   "metadata": {},
   "outputs": [
    {
     "name": "stdout",
     "output_type": "stream",
     "text": [
      "No module named 'Subhajit'\n"
     ]
    }
   ],
   "source": [
    "try :\n",
    "    import Subhajit\n",
    "except ImportError as e:\n",
    "    print(e)"
   ]
  },
  {
   "cell_type": "markdown",
   "id": "00796d3c",
   "metadata": {},
   "source": [
    "### Q6. List down some best practices for exception handling in python.\n",
    "\n",
    "**Answer -**\n",
    "\n",
    "The following steps are the best practices for handling exceptions in python - \n",
    "* Always use a specific exception\n",
    "* Always print a valid message\n",
    "* Always try to log actions \n",
    "* Always avoid to write multiple exception handling \n",
    "* Prepare a proper documentation\n",
    "* Cleanup all the resources "
   ]
  },
  {
   "cell_type": "markdown",
   "id": "31022659",
   "metadata": {},
   "source": [
    "##### 1. Always use a specific exception\n",
    "\n",
    "We are supposed to use the specific exception class as per the situation and not use the generic Exception(Super class). For example, in the below case, we should have used ZeroDivisionError instead of Exception. If we are not sure of the exception, only then we can use the superclass. "
   ]
  },
  {
   "cell_type": "code",
   "execution_count": 18,
   "id": "ba834049",
   "metadata": {},
   "outputs": [
    {
     "name": "stdout",
     "output_type": "stream",
     "text": [
      "division by zero\n"
     ]
    }
   ],
   "source": [
    "# Improper\n",
    "try :\n",
    "    10/0\n",
    "except Exception as e:\n",
    "    print(e)"
   ]
  },
  {
   "cell_type": "code",
   "execution_count": 19,
   "id": "9a6f016d",
   "metadata": {},
   "outputs": [
    {
     "name": "stdout",
     "output_type": "stream",
     "text": [
      "division by zero\n"
     ]
    }
   ],
   "source": [
    "# Proper\n",
    "try :\n",
    "    10/0\n",
    "except ZeroDivisionError as e:\n",
    "    print(e)"
   ]
  },
  {
   "cell_type": "markdown",
   "id": "ea60adc6",
   "metadata": {},
   "source": [
    "##### 2. Always print a valid message\n",
    "\n",
    "Whenever we are handling errors, we must mention a proper message so that at the time of debugging, the programmer can see the messages and understand the work and nature of the code in the easiest possible way."
   ]
  },
  {
   "cell_type": "code",
   "execution_count": 20,
   "id": "64767ff4",
   "metadata": {},
   "outputs": [
    {
     "name": "stdout",
     "output_type": "stream",
     "text": [
      "this is my zero division error I am handling division by zero \n"
     ]
    }
   ],
   "source": [
    "try :\n",
    "    10/0\n",
    "except ZeroDivisionError as e :\n",
    "    print(\"this is my zero division error I am handling {} \".format( e))"
   ]
  },
  {
   "cell_type": "markdown",
   "id": "0db7e5ab",
   "metadata": {},
   "source": [
    "##### 3. Always try to log actions \n",
    "\n",
    "Logging help one to develop a better understanding of the flow of a program and discover scenarios that one might not even have thought of while developing. In the below case, logging is better than using print. By using Logging, one can: (a) Log Severity Levels, (b) use Time Stamp, (c) know the Log's origin, etc.\n",
    "\n",
    "For using logging, one must import the module and create a file that will log the actions. "
   ]
  },
  {
   "cell_type": "code",
   "execution_count": null,
   "id": "7f5150b0",
   "metadata": {},
   "outputs": [],
   "source": [
    "import logging\n",
    "logging.basicConfig(filename = \"error.log\" , level = logging.ERROR)\n",
    "\n",
    "try :\n",
    "    10/0\n",
    "except ZeroDivisionError as e :\n",
    "    logging.error(\"this is my zero division error i am handling {} \".format( e))"
   ]
  },
  {
   "cell_type": "markdown",
   "id": "765cf560",
   "metadata": {},
   "source": [
    "##### 4. Always avoid to write multiple exception handling \n",
    "\n",
    "We should not try to handle one error in multiple ways by using multiple exception classes. For example, if we have a number divided by zero, we should only use ZeroDivisionError and not other types of errors. "
   ]
  },
  {
   "cell_type": "code",
   "execution_count": null,
   "id": "60af330f",
   "metadata": {},
   "outputs": [],
   "source": [
    "try :\n",
    "    10/0\n",
    "except FileNotFoundError as e : \n",
    "    logging.error(\"this is my file not found  {} \".format( e))\n",
    "except AttributeError as e : \n",
    "    logging.error(\"this is my attribute erro  {} \".format( e))\n",
    "except ZeroDivisionError as e :\n",
    "    logging.error(\"this is my zero division error i am handling {} \".format( e))"
   ]
  },
  {
   "cell_type": "markdown",
   "id": "7f25144b",
   "metadata": {},
   "source": [
    "##### 5. Prepare a proper documentation\n",
    "\n",
    "We should always create a proper documentation with a proper valid meaningful information regarding every code that we develop. We should avoid creating or inserting that might create a problem for future developer"
   ]
  },
  {
   "cell_type": "markdown",
   "id": "d7c1a0df",
   "metadata": {},
   "source": [
    "##### 6. Cleanup all the resources \n",
    "\n",
    "Suppose we create a file and write a message into it. As long as it reamins open, it will occupy the memory space. It is a good practice to close the files that we have opened, i.e., cleanup of the resources. Similarly for opening and closing database connectivity, Network I/O operations.\n",
    "\n",
    "Even if the following code fails, we can add finally block to pass f.close() statement to close the file. This ensures the resources are cleaned up."
   ]
  },
  {
   "cell_type": "code",
   "execution_count": null,
   "id": "f47447ec",
   "metadata": {},
   "outputs": [],
   "source": [
    "# Improper\n",
    "try:\n",
    "    with open(\"test.txt\",\"w\") as f:\n",
    "        f.write(\"This is my message to file\")\n",
    "        \n",
    "except FileNotFoundError as e:\n",
    "    logging.error(\"This file may not be found {}\".format(e))"
   ]
  },
  {
   "cell_type": "code",
   "execution_count": null,
   "id": "3da00ad5",
   "metadata": {},
   "outputs": [],
   "source": [
    "# Proper\n",
    "try:\n",
    "    with open(\"test.txt\",\"w\") as f:\n",
    "        f.write(\"This is my message to file\")\n",
    "        \n",
    "except FileNotFoundError as e:\n",
    "    logging.error(\"This file may not be found {}\".format(e))\n",
    "finally :\n",
    "    f.close()"
   ]
  }
 ],
 "metadata": {
  "kernelspec": {
   "display_name": "Python 3",
   "language": "python",
   "name": "python3"
  },
  "language_info": {
   "codemirror_mode": {
    "name": "ipython",
    "version": 3
   },
   "file_extension": ".py",
   "mimetype": "text/x-python",
   "name": "python",
   "nbconvert_exporter": "python",
   "pygments_lexer": "ipython3",
   "version": "3.8.8"
  }
 },
 "nbformat": 4,
 "nbformat_minor": 5
}
