{
 "cells": [
  {
   "cell_type": "markdown",
   "id": "849fb60c",
   "metadata": {},
   "source": [
    "## Week 4 - Assignment 1 (OOPS_Assignment) Solutions\n",
    "\n",
    "### Q1. Explain Class and Object with respect to Object-Oriented Programming. Give a suitable example.\n",
    "\n",
    "**Answer -** \n",
    "\n",
    "**CLASS** : A class is a user-defined data structure that binds the *data members (instance variable)* and *methods or functionality (class methods)* into a single unit. A class is essentially a blueprint or skeleton from which objects are created. Creating a new class creates a new type of object, allowing new instances of that type to be made. Each class instance can have attributes attached to it for maintaining its state that can be accessed by dot (.) operator. Class instances can also have methods (defined by their class) for modifying their state like constructor, instance, class, static methods.\n",
    "\n",
    "**OBJECT** : An object is an instance of a class. A class is like a blueprint while an instance is a copy of the class with actual values. an object is a collection of attributes (variables) and methods. We use the object of a class to perform actions.\n",
    "\n",
    "\n",
    "Python Class and Objects can be explained in terms of OOPS by using the following example. \n",
    "\n",
    "We design a class based on data members and class methods. The blueprint is :\n",
    "\n",
    "* CLASS - Person\n",
    "    * Data Members : Name, Gender, Profession : Instance Variables\n",
    "    * Class Methods : work(), study() : Instance Methods\n",
    "\n",
    "Consider we input the data for 2 person - Person A (Subhajit) and Person B (Soumita). They will act as object. \n",
    "\n",
    "The objects will be :\n",
    "\n",
    "* Object 1 - Person A\n",
    "    * Instance Variable :\n",
    "        - Name : Subhajit\n",
    "        - Gender : Male\n",
    "        - Profession : Data Scientist\n",
    "    * Instance Methods :\n",
    "        - work() : He works as a Data Scientist in ABC company\n",
    "        - study() : He studies 18 hours a week\n",
    "        \n",
    "* Object 2 - Person B\n",
    "    * Instance Variable :\n",
    "        - Name : Soumita\n",
    "        - Gender : Female\n",
    "        - Profession : Chartered Accountant\n",
    "    * Instance Methods :\n",
    "        - work() : She works as an Accountant in XYZ company\n",
    "        - study() : She studies 10 hours a week\n",
    "\n",
    "Based on these, we create the class and call the objects"
   ]
  },
  {
   "cell_type": "code",
   "execution_count": 19,
   "id": "e2619b3f",
   "metadata": {},
   "outputs": [],
   "source": [
    "# Creating the Class\n",
    "\n",
    "class Person:\n",
    "    \n",
    "    def __init__(self, name, gender, profession, company, study):\n",
    "        self.name = name\n",
    "        self.gender = gender\n",
    "        self.profession = profession\n",
    "        self.company = company\n",
    "        self.study = study\n",
    "        \n",
    "    def details(self):\n",
    "        print('Name:', self.name, '; Gender:', self.gender, '; Profession:', self.profession, \n",
    "              '; Company:', self.company)\n",
    "        \n",
    "    def work(self):\n",
    "        print(self.name, 'is working as a', self.profession, 'in', self.company, 'Company')\n",
    "        \n",
    "    def studied(self):\n",
    "        print(self.name, 'studied for', self.study, 'hours a week to get a job at', self.company, 'company')\n",
    "        \n",
    "       "
   ]
  },
  {
   "cell_type": "code",
   "execution_count": 20,
   "id": "cebe3218",
   "metadata": {},
   "outputs": [],
   "source": [
    "# Assigning Object 1 to Class\n",
    "\n",
    "Subhajit = Person(\"Subhajit\", \"Male\", \"Data Scientist\", \"ABC\", 18)"
   ]
  },
  {
   "cell_type": "code",
   "execution_count": 21,
   "id": "f8c9dc54",
   "metadata": {},
   "outputs": [
    {
     "name": "stdout",
     "output_type": "stream",
     "text": [
      "Subhajit\n",
      "Male\n",
      "Data Scientist\n",
      "ABC\n",
      "18\n"
     ]
    }
   ],
   "source": [
    "# Calling Instances\n",
    "\n",
    "print(Subhajit.name)\n",
    "print(Subhajit.gender)\n",
    "print(Subhajit.profession)\n",
    "print(Subhajit.company)\n",
    "print(Subhajit.study)"
   ]
  },
  {
   "cell_type": "code",
   "execution_count": 22,
   "id": "b4ffad7d",
   "metadata": {},
   "outputs": [
    {
     "name": "stdout",
     "output_type": "stream",
     "text": [
      "Name: Subhajit ; Gender: Male ; Profession: Data Scientist ; Company: ABC\n"
     ]
    }
   ],
   "source": [
    "# Calling Methods\n",
    "\n",
    "Subhajit.details()"
   ]
  },
  {
   "cell_type": "code",
   "execution_count": 23,
   "id": "6576fe60",
   "metadata": {},
   "outputs": [
    {
     "name": "stdout",
     "output_type": "stream",
     "text": [
      "Subhajit is working as a Data Scientist in ABC Company\n"
     ]
    }
   ],
   "source": [
    "Subhajit.work()"
   ]
  },
  {
   "cell_type": "code",
   "execution_count": 24,
   "id": "b120c53f",
   "metadata": {},
   "outputs": [
    {
     "name": "stdout",
     "output_type": "stream",
     "text": [
      "Subhajit studied for 18 hours a week to get a job at ABC company\n"
     ]
    }
   ],
   "source": [
    "Subhajit.studied()"
   ]
  },
  {
   "cell_type": "code",
   "execution_count": 25,
   "id": "3d37271a",
   "metadata": {},
   "outputs": [],
   "source": [
    "# Assigning Object 2 to Class\n",
    "\n",
    "Soumita = Person(\"Soumita\", \"Female\", \"Chartered Accountant\", \"XYZ\", 10)"
   ]
  },
  {
   "cell_type": "code",
   "execution_count": 27,
   "id": "8db873cc",
   "metadata": {},
   "outputs": [
    {
     "name": "stdout",
     "output_type": "stream",
     "text": [
      "Soumita\n",
      "Female\n",
      "Chartered Accountant\n",
      "XYZ\n",
      "10\n"
     ]
    }
   ],
   "source": [
    "# Calling Instances\n",
    "\n",
    "print(Soumita.name)\n",
    "print(Soumita.gender)\n",
    "print(Soumita.profession)\n",
    "print(Soumita.company)\n",
    "print(Soumita.study)"
   ]
  },
  {
   "cell_type": "code",
   "execution_count": 29,
   "id": "8c3a4899",
   "metadata": {},
   "outputs": [
    {
     "name": "stdout",
     "output_type": "stream",
     "text": [
      "Name: Soumita ; Gender: Female ; Profession: Chartered Accountant ; Company: XYZ\n"
     ]
    }
   ],
   "source": [
    "# Calling Methods\n",
    "\n",
    "Soumita.details()"
   ]
  },
  {
   "cell_type": "code",
   "execution_count": 30,
   "id": "2b749233",
   "metadata": {},
   "outputs": [
    {
     "name": "stdout",
     "output_type": "stream",
     "text": [
      "Soumita is working as a Chartered Accountant in XYZ Company\n"
     ]
    }
   ],
   "source": [
    "Soumita.work()"
   ]
  },
  {
   "cell_type": "code",
   "execution_count": 31,
   "id": "976cea89",
   "metadata": {},
   "outputs": [
    {
     "name": "stdout",
     "output_type": "stream",
     "text": [
      "Soumita studied for 10 hours a week to get a job at XYZ company\n"
     ]
    }
   ],
   "source": [
    "Soumita.studied()"
   ]
  },
  {
   "cell_type": "markdown",
   "id": "41ccfd9f",
   "metadata": {},
   "source": [
    "### Q2. Name the four pillars of OOPs.\n",
    "\n",
    "**Answer -** \n",
    "\n",
    "The four pillars/ principles of OOPs are :\n",
    "1. Encapsulation\n",
    "2. Inheritance\n",
    "3. Polymorphism\n",
    "4. Abstraction\n",
    "\n",
    "#### 1. Encapsulation\n",
    "Encapsulation is the method of keeping all the state, variables, and methods private unless declared to be public. Encapsulation allows us to prevent any kind of direct modification/access of data in OOPS concept. If the data needs to be modified, it can be done by own defined method. It describes the idea of wrapping data and the methods that work on data within one unit. This puts restrictions on accessing variables and methods directly and can prevent the accidental modification of data.\n",
    "\n",
    "#### 2. Inheritance\n",
    "Inheritance is the capability of one class to derive or inherit the properties from another class. The class that derives properties is called the derived class or child class and the class from which the properties are being derived is called the base class or parent class. Inheritance can be Single Inheritance, Multiple Inheritance, Multilevel Inheritance, Hierachial Inheritance. \n",
    "\n",
    "#### 3. Polymorphism\n",
    "Polymorphism means \"the condition of occurring in several different forms. Polymorphism is a way of interfacing with objects and receiving different forms or results. It aims at a single programming that can be used differently for different circumstances.\n",
    "\n",
    "#### 4. Abstraction\n",
    "Abstraction is the concept of hiding all the implementation of your class away from anything outside of the class. In Abstraction, we create Abstract Class which is essentially a structure/skeleton/outline/blueprint for a particular class. Once we create a skeleton structure for a abstract class, we can reuse it for creating further similar classes."
   ]
  },
  {
   "cell_type": "markdown",
   "id": "568be4c4",
   "metadata": {},
   "source": [
    "### Q3. Explain why the __init__() function is used. Give a suitable example.\n",
    "\n",
    "**Answer -** \n",
    "\n",
    "The Constructor method of defining a variable uses the inbuilt **__init__()** function. The __init__() function is used to assign values to object properties, or other operations that are necessary to do when the object is being created. All classes have a function called __init__(), which is always executed when the class is being initiated.\n",
    "\n",
    "Let us consider the following example. Suppose we have a class pwskills that takes input name and email. This class takes name and email as input. This is possible because of the __init__ function and must be mentioned at the time of creating the class. "
   ]
  },
  {
   "cell_type": "code",
   "execution_count": 32,
   "id": "04edfcbf",
   "metadata": {},
   "outputs": [],
   "source": [
    "class pwskills:\n",
    "    def __init__(self, name, email):\n",
    "        \n",
    "        self.name = name\n",
    "        self.email = email\n",
    "        \n",
    "    def student_details(self):\n",
    "        print(self.name, self.email)"
   ]
  },
  {
   "cell_type": "code",
   "execution_count": 33,
   "id": "e83d4b4e",
   "metadata": {},
   "outputs": [],
   "source": [
    "pw = pwskills(\"Subhajit Sarkar\",\"subhajitsarkar24x7@gmail.com\")"
   ]
  },
  {
   "cell_type": "code",
   "execution_count": 34,
   "id": "5647a5a5",
   "metadata": {},
   "outputs": [
    {
     "name": "stdout",
     "output_type": "stream",
     "text": [
      "Subhajit Sarkar subhajitsarkar24x7@gmail.com\n"
     ]
    }
   ],
   "source": [
    "pw.student_details()"
   ]
  },
  {
   "cell_type": "markdown",
   "id": "60705812",
   "metadata": {},
   "source": [
    "### Q4. Why self is used in OOPs?\n",
    "\n",
    "**Answer -** \n",
    "\n",
    "The self parameter is a reference to the current instance of the class, and is used to access variables that belongs to the class, i.e., it binds the attributes with the given arguments. Python decides to do methods in a way that makes the instance to which the method belongs to, be passed automatically. For that the first parameter of methods is called on. Hence we use \"self\" as the first parameter of any function in the class. It does not have to be named \"self\" , you can call it whatever we like.\n"
   ]
  },
  {
   "cell_type": "markdown",
   "id": "6bac321d",
   "metadata": {},
   "source": [
    "### Q5. What is inheritance? Give an example for each type of inheritance.\n",
    "\n",
    "**Answer -** \n",
    "\n",
    "**Inheritance** is one of the four pillars/ principles of Object Oriented Programming System. Inheritance is the capability of one class to derive or inherit the properties from another class. The class that derives properties is called the derived class or child class and the class from which the properties are being derived is called the base class or parent class. Inheritance occurs while definining the child class we code **class Child_class(Parent_class)**\n",
    "\n",
    "Inheritance can be of the following type :\n",
    "\n",
    "#### 1. Single Inheritance\n",
    "**Single inheritance** enables a derived class to inherit properties from a single parent class, thus enabling code reusability and the addition of new features to existing code. For example, we create a class named Person, with firstname and lastname properties, and a printname method."
   ]
  },
  {
   "cell_type": "code",
   "execution_count": 42,
   "id": "4f179496",
   "metadata": {},
   "outputs": [],
   "source": [
    "# CREATING PARENT CLASS\n",
    "class Person:\n",
    "  def __init__(self, firstname, lastname):\n",
    "    self.firstname = firstname\n",
    "    self.lastname = lastname\n",
    "\n",
    "  def printname(self):\n",
    "    print(self.firstname, self.lastname)"
   ]
  },
  {
   "cell_type": "code",
   "execution_count": 43,
   "id": "6300e0be",
   "metadata": {},
   "outputs": [],
   "source": [
    "# CREATING CHILD CLASS\n",
    "class Student(Person):   # Inheriting Parent class(Person) into Child class (Student)\n",
    "  pass"
   ]
  },
  {
   "cell_type": "code",
   "execution_count": 45,
   "id": "c764ba56",
   "metadata": {},
   "outputs": [],
   "source": [
    "# ASSIGNING OBJECT TO CHILD CLASS\n",
    "child_obj = Student(\"Subhajit\",\"Soumita\")"
   ]
  },
  {
   "cell_type": "code",
   "execution_count": 47,
   "id": "5dde8f6f",
   "metadata": {},
   "outputs": [
    {
     "name": "stdout",
     "output_type": "stream",
     "text": [
      "Subhajit Soumita\n"
     ]
    }
   ],
   "source": [
    "# WE CAN CALL CHILD_OBJECT.PARENT_CLASS_VARIABLE\n",
    "child_obj.printname()"
   ]
  },
  {
   "cell_type": "markdown",
   "id": "5b565b78",
   "metadata": {},
   "source": [
    "#### 2. Multiple Inheritance\n",
    "When a class can be derived from more than one base class this type of inheritance is called **multiple inheritances**. In multiple inheritances, all the features of the base classes are inherited into the derived class. For example, we create 2 parent classes named Mother and Father and create a child class Son. While creating child class, we write \n",
    "**class child_class(parent_class1,parent_class2)**"
   ]
  },
  {
   "cell_type": "code",
   "execution_count": 49,
   "id": "90908171",
   "metadata": {},
   "outputs": [],
   "source": [
    "# CREATING PARENT CLASS 1\n",
    "class Mother:\n",
    "    mothername = \"\"\n",
    " \n",
    "    def mother(self):\n",
    "        print(self.mothername)\n",
    "\n",
    "# CREATING PARENT CLASS 2 \n",
    "class Father:\n",
    "    fathername = \"\"\n",
    " \n",
    "    def father(self):\n",
    "        print(self.fathername)"
   ]
  },
  {
   "cell_type": "code",
   "execution_count": 50,
   "id": "049693af",
   "metadata": {},
   "outputs": [],
   "source": [
    "# CREATING CHILD CLASS\n",
    "class Son(Mother, Father):\n",
    "    def parents(self):\n",
    "        print(\"Father :\", self.fathername)\n",
    "        print(\"Mother :\", self.mothername)"
   ]
  },
  {
   "cell_type": "code",
   "execution_count": 53,
   "id": "a47fd2b6",
   "metadata": {},
   "outputs": [
    {
     "name": "stdout",
     "output_type": "stream",
     "text": [
      "Father : RAM\n",
      "Mother : SITA\n"
     ]
    }
   ],
   "source": [
    "# ASSIGNING OBJECT TO CHILD CLASS WITH VALUES\n",
    "s1 = Son()\n",
    "\n",
    "# UPDATING VALUES\n",
    "s1.mothername = \"SITA\"\n",
    "s1.fathername = \"RAM\"\n",
    "# CALLING VALUES\n",
    "s1.parents()"
   ]
  },
  {
   "cell_type": "markdown",
   "id": "7d33c027",
   "metadata": {},
   "source": [
    "#### 3. Multilevel Inheritance\n",
    "In **multilevel inheritance**, features of the parent class and the child class are further inherited into the new child class. For example, we first create a parent class `Grandfather` and pass its properties to child class `Father`. We next pass the properties of old child class `Father` class into new child class `Son`. As `Father` class had the properties of `Grandfather` class, hence properties of `Grandfather` class was passed on indirectly to new child class `Son'"
   ]
  },
  {
   "cell_type": "code",
   "execution_count": 55,
   "id": "ee26031d",
   "metadata": {},
   "outputs": [],
   "source": [
    "# PARENT CLASS \n",
    "class Grandfather:\n",
    " \n",
    "    def __init__(self, grandfathername):\n",
    "        self.grandfathername = grandfathername\n",
    "        \n",
    "# INTERMEDIATE CLASS\n",
    "class Father(Grandfather):\n",
    "    def __init__(self, fathername, grandfathername):\n",
    "        self.fathername = fathername\n",
    " \n",
    "        # invoking constructor of Grandfather class\n",
    "        Grandfather.__init__(self, grandfathername)\n",
    "\n",
    "# CHILD CLASS         \n",
    "class Son(Father):\n",
    "    def __init__(self, sonname, fathername, grandfathername):\n",
    "        self.sonname = sonname\n",
    " \n",
    "        # invoking constructor of Father class\n",
    "        Father.__init__(self, fathername, grandfathername)\n",
    " \n",
    "    def print_name(self):\n",
    "        print('Grandfather name :', self.grandfathername)\n",
    "        print(\"Father name :\", self.fathername)\n",
    "        print(\"Son name :\", self.sonname)\n",
    " \n"
   ]
  },
  {
   "cell_type": "code",
   "execution_count": 56,
   "id": "3d55529e",
   "metadata": {},
   "outputs": [
    {
     "name": "stdout",
     "output_type": "stream",
     "text": [
      "Anil Sarkar\n",
      "Grandfather name : Anil Sarkar\n",
      "Father name : Susanta Sarkar\n",
      "Son name : Subhajit Sarkar\n"
     ]
    }
   ],
   "source": [
    "s1 = Son('Subhajit Sarkar', 'Susanta Sarkar', 'Anil Sarkar')\n",
    "print(s1.grandfathername)\n",
    "s1.print_name()"
   ]
  },
  {
   "cell_type": "markdown",
   "id": "84a6aa1b",
   "metadata": {},
   "source": [
    "#### 4. Hierarchial Inheritance\n",
    "When more than one derived class are created from a single base this type of inheritance is called **hierarchical inheritance**. In this program, we have a parent (base) class and two child (derived) classes. For example, we create a parent class `Parent` and then create 2 child classes `Child1` and `Child2`. While creating the child classes, the properties of `Parent` was passed onto both the child classes."
   ]
  },
  {
   "cell_type": "code",
   "execution_count": 62,
   "id": "92c922c1",
   "metadata": {},
   "outputs": [],
   "source": [
    "# PARENT CLASS\n",
    "class Parent:\n",
    "    def func1(self):\n",
    "        print(\"This function is in parent class.\")\n",
    "\n",
    "# CHILD CLASS 1\n",
    "class Child1(Parent):\n",
    "    def func2(self):\n",
    "        print(\"This function is in child 1.\")\n",
    "\n",
    "# CHILD CLASS 2\n",
    "class Child2(Parent):\n",
    "    def func3(self):\n",
    "        print(\"This function is in child 2.\")"
   ]
  },
  {
   "cell_type": "code",
   "execution_count": 61,
   "id": "8b4a1bd8",
   "metadata": {},
   "outputs": [
    {
     "name": "stdout",
     "output_type": "stream",
     "text": [
      "This function is in parent class.\n",
      "This function is in child 1.\n",
      "This function is in parent class.\n",
      "This function is in child 2.\n"
     ]
    }
   ],
   "source": [
    "# ASSIGNING CHILD CLASS 1 TO OBJECT \n",
    "object1 = Child1()\n",
    "# ASSIGNING CHILD CLASS 1 TO OBJECT \n",
    "object2 = Child2()\n",
    "\n",
    "# CALLING \n",
    "object1.func1()\n",
    "object1.func2()\n",
    "object2.func1()\n",
    "object2.func3()"
   ]
  },
  {
   "cell_type": "markdown",
   "id": "0f592200",
   "metadata": {},
   "source": [
    "#### 5. Hybrid Inheritance\n",
    "Inheritance consisting of multiple types of inheritance is called **hybrid inheritance**. For example, we create a parent class `School` and then create 2 child classes `Student1` and `Student2`. While creating the child classes `Student1` and `Student2`, the properties of `School` was passed onto both the child classes. We then create a third child class `Student3` that has properties of both `Student1` and `School`."
   ]
  },
  {
   "cell_type": "code",
   "execution_count": 63,
   "id": "62b8243c",
   "metadata": {},
   "outputs": [],
   "source": [
    "\n",
    "class School:\n",
    "    def func1(self):\n",
    "        print(\"This function is in school.\")\n",
    " \n",
    " \n",
    "class Student1(School):\n",
    "    def func2(self):\n",
    "        print(\"This function is in student 1. \")\n",
    " \n",
    " \n",
    "class Student2(School):\n",
    "    def func3(self):\n",
    "        print(\"This function is in student 2.\")\n",
    " \n",
    " \n",
    "class Student3(Student1, School):\n",
    "    def func4(self):\n",
    "        print(\"This function is in student 3.\")"
   ]
  },
  {
   "cell_type": "code",
   "execution_count": 65,
   "id": "8b07bb9e",
   "metadata": {},
   "outputs": [
    {
     "name": "stdout",
     "output_type": "stream",
     "text": [
      "This function is in school.\n",
      "This function is in student 1. \n"
     ]
    }
   ],
   "source": [
    "# Assigning Object to Student3\n",
    "object = Student3()\n",
    "\n",
    "#As it has properties of School and Student 1, it has 2 functions that can be called.\n",
    "object.func1()\n",
    "object.func2()"
   ]
  }
 ],
 "metadata": {
  "kernelspec": {
   "display_name": "Python 3",
   "language": "python",
   "name": "python3"
  },
  "language_info": {
   "codemirror_mode": {
    "name": "ipython",
    "version": 3
   },
   "file_extension": ".py",
   "mimetype": "text/x-python",
   "name": "python",
   "nbconvert_exporter": "python",
   "pygments_lexer": "ipython3",
   "version": "3.8.8"
  }
 },
 "nbformat": 4,
 "nbformat_minor": 5
}
